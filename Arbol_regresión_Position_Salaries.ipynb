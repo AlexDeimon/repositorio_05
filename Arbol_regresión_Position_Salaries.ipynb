{
  "nbformat": 4,
  "nbformat_minor": 0,
  "metadata": {
    "colab": {
      "name": "Arbol_regresión_Position_Salaries.ipynb",
      "provenance": []
    },
    "kernelspec": {
      "name": "python3",
      "display_name": "Python 3"
    },
    "language_info": {
      "name": "python"
    }
  },
  "cells": [
    {
      "cell_type": "code",
      "metadata": {
        "colab": {
          "base_uri": "https://localhost:8080/",
          "height": 359
        },
        "id": "EGKMRRuDj3mX",
        "outputId": "7ffa3a73-d5d6-4d71-ba5f-bb01d6763fcf"
      },
      "source": [
        "import numpy as np\n",
        "import matplotlib.pyplot as plt\n",
        "import pandas as pd\n",
        "dataset = pd.read_csv('Position_Salaries.csv')\n",
        "dataset"
      ],
      "execution_count": null,
      "outputs": [
        {
          "output_type": "execute_result",
          "data": {
            "text/html": [
              "<div>\n",
              "<style scoped>\n",
              "    .dataframe tbody tr th:only-of-type {\n",
              "        vertical-align: middle;\n",
              "    }\n",
              "\n",
              "    .dataframe tbody tr th {\n",
              "        vertical-align: top;\n",
              "    }\n",
              "\n",
              "    .dataframe thead th {\n",
              "        text-align: right;\n",
              "    }\n",
              "</style>\n",
              "<table border=\"1\" class=\"dataframe\">\n",
              "  <thead>\n",
              "    <tr style=\"text-align: right;\">\n",
              "      <th></th>\n",
              "      <th>Position</th>\n",
              "      <th>Level</th>\n",
              "      <th>Salary</th>\n",
              "    </tr>\n",
              "  </thead>\n",
              "  <tbody>\n",
              "    <tr>\n",
              "      <th>0</th>\n",
              "      <td>Business Analyst</td>\n",
              "      <td>1</td>\n",
              "      <td>45000</td>\n",
              "    </tr>\n",
              "    <tr>\n",
              "      <th>1</th>\n",
              "      <td>Junior Consultant</td>\n",
              "      <td>2</td>\n",
              "      <td>50000</td>\n",
              "    </tr>\n",
              "    <tr>\n",
              "      <th>2</th>\n",
              "      <td>Senior Consultant</td>\n",
              "      <td>3</td>\n",
              "      <td>60000</td>\n",
              "    </tr>\n",
              "    <tr>\n",
              "      <th>3</th>\n",
              "      <td>Manager</td>\n",
              "      <td>4</td>\n",
              "      <td>80000</td>\n",
              "    </tr>\n",
              "    <tr>\n",
              "      <th>4</th>\n",
              "      <td>Country Manager</td>\n",
              "      <td>5</td>\n",
              "      <td>110000</td>\n",
              "    </tr>\n",
              "    <tr>\n",
              "      <th>5</th>\n",
              "      <td>Region Manager</td>\n",
              "      <td>6</td>\n",
              "      <td>150000</td>\n",
              "    </tr>\n",
              "    <tr>\n",
              "      <th>6</th>\n",
              "      <td>Partner</td>\n",
              "      <td>7</td>\n",
              "      <td>200000</td>\n",
              "    </tr>\n",
              "    <tr>\n",
              "      <th>7</th>\n",
              "      <td>Senior Partner</td>\n",
              "      <td>8</td>\n",
              "      <td>300000</td>\n",
              "    </tr>\n",
              "    <tr>\n",
              "      <th>8</th>\n",
              "      <td>C-level</td>\n",
              "      <td>9</td>\n",
              "      <td>500000</td>\n",
              "    </tr>\n",
              "    <tr>\n",
              "      <th>9</th>\n",
              "      <td>CEO</td>\n",
              "      <td>10</td>\n",
              "      <td>1000000</td>\n",
              "    </tr>\n",
              "  </tbody>\n",
              "</table>\n",
              "</div>"
            ],
            "text/plain": [
              "            Position  Level   Salary\n",
              "0   Business Analyst      1    45000\n",
              "1  Junior Consultant      2    50000\n",
              "2  Senior Consultant      3    60000\n",
              "3            Manager      4    80000\n",
              "4    Country Manager      5   110000\n",
              "5     Region Manager      6   150000\n",
              "6            Partner      7   200000\n",
              "7     Senior Partner      8   300000\n",
              "8            C-level      9   500000\n",
              "9                CEO     10  1000000"
            ]
          },
          "metadata": {},
          "execution_count": 3
        }
      ]
    },
    {
      "cell_type": "code",
      "metadata": {
        "colab": {
          "base_uri": "https://localhost:8080/"
        },
        "id": "vXzUEK4dkvWJ",
        "outputId": "8bf82794-7afc-458e-8e66-8a4ba9aa3539"
      },
      "source": [
        "X = dataset.iloc[:,1:2].values\n",
        "X"
      ],
      "execution_count": null,
      "outputs": [
        {
          "output_type": "execute_result",
          "data": {
            "text/plain": [
              "array([[ 1],\n",
              "       [ 2],\n",
              "       [ 3],\n",
              "       [ 4],\n",
              "       [ 5],\n",
              "       [ 6],\n",
              "       [ 7],\n",
              "       [ 8],\n",
              "       [ 9],\n",
              "       [10]])"
            ]
          },
          "metadata": {},
          "execution_count": 18
        }
      ]
    },
    {
      "cell_type": "code",
      "metadata": {
        "colab": {
          "base_uri": "https://localhost:8080/"
        },
        "id": "nOjZotrwkyHG",
        "outputId": "8c5fc3fe-37d0-40f3-b4b0-51fb7855408f"
      },
      "source": [
        "y = dataset.iloc[:,2].values\n",
        "y"
      ],
      "execution_count": null,
      "outputs": [
        {
          "output_type": "execute_result",
          "data": {
            "text/plain": [
              "array([  45000,   50000,   60000,   80000,  110000,  150000,  200000,\n",
              "        300000,  500000, 1000000])"
            ]
          },
          "metadata": {},
          "execution_count": 19
        }
      ]
    },
    {
      "cell_type": "code",
      "metadata": {
        "colab": {
          "base_uri": "https://localhost:8080/"
        },
        "id": "vZpYQIjiky9X",
        "outputId": "8c726829-f15f-4d59-bc6e-ac797bfb1d10"
      },
      "source": [
        "#Construir el modelo\n",
        "from sklearn.tree import DecisionTreeRegressor\n",
        "regressor = DecisionTreeRegressor(random_state=0)\n",
        "regressor.fit(X,y)\n",
        "y_pred = regressor.predict(np.array([[6.5],[5.5]]))\n",
        "y_pred"
      ],
      "execution_count": null,
      "outputs": [
        {
          "output_type": "execute_result",
          "data": {
            "text/plain": [
              "array([150000., 110000.])"
            ]
          },
          "metadata": {},
          "execution_count": 20
        }
      ]
    },
    {
      "cell_type": "code",
      "metadata": {
        "colab": {
          "base_uri": "https://localhost:8080/",
          "height": 295
        },
        "id": "X88GIC15l7_U",
        "outputId": "5b4645e8-f134-4a52-b036-87475e768b03"
      },
      "source": [
        "plt.scatter(X,y, color = 'red')\n",
        "plt.plot(X, regressor.predict(X), color = 'blue')\n",
        "plt.title('Arbol regresion')\n",
        "plt.xlabel('Nivel')\n",
        "plt.ylabel('salario')\n",
        "plt.show()"
      ],
      "execution_count": null,
      "outputs": [
        {
          "output_type": "display_data",
          "data": {
            "image/png": "[encoded data removed]",
            "text/plain": [
              "<Figure size 432x288 with 1 Axes>"
            ]
          },
          "metadata": {
            "needs_background": "light"
          }
        }
      ]
    },
    {
      "cell_type": "code",
      "metadata": {
        "colab": {
          "base_uri": "https://localhost:8080/",
          "height": 295
        },
        "id": "W3L1WjGjmv19",
        "outputId": "95b3c3e5-5f4e-4029-ae87-af9f10728287"
      },
      "source": [
        "#visualizamos los datos para una resolucion mas alta y una curva mas suave\n",
        "x_aux = np.arange(min(X), max(X), 0.01)\n",
        "x_aux = x_aux.reshape(len(x_aux), 1)\n",
        "plt.scatter(X,y, color = 'red')\n",
        "plt.plot(x_aux, regressor.predict(x_aux), color = 'blue')\n",
        "plt.title('Arbol regresion')\n",
        "plt.xlabel('Nivel')\n",
        "plt.ylabel('salario')\n",
        "plt.show()"
      ],
      "execution_count": null,
      "outputs": [
        {
          "output_type": "display_data",
          "data": {
            "image/png": "[encoded data removed]",
            "text/plain": [
              "<Figure size 432x288 with 1 Axes>"
            ]
          },
          "metadata": {
            "needs_background": "light"
          }
        }
      ]
    }
  ]
}