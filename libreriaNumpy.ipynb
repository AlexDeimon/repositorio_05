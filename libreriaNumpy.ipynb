{
 "cells": [
  {
   "cell_type": "code",
   "execution_count": 1,
   "source": [
    "import numpy as np\r\n",
    "\r\n",
    "#Array de una dimencion\r\n",
    "a = np.array([1,2,3,4,5,6,7,8,9,10])\r\n",
    "print(a)"
   ],
   "outputs": [
    {
     "output_type": "stream",
     "name": "stdout",
     "text": [
      "[ 1  2  3  4  5  6  7  8  9 10]\n"
     ]
    }
   ],
   "metadata": {}
  },
  {
   "cell_type": "code",
   "execution_count": 2,
   "source": [
    "#array de 2 dimenciones\r\n",
    "b = np.array([(1,2,3,0),(4,5,6,1),(7,8,9,2)])\r\n",
    "print(b)"
   ],
   "outputs": [
    {
     "output_type": "stream",
     "name": "stdout",
     "text": [
      "[[1 2 3 0]\n",
      " [4 5 6 1]\n",
      " [7 8 9 2]]\n"
     ]
    }
   ],
   "metadata": {}
  },
  {
   "cell_type": "code",
   "execution_count": 3,
   "source": [
    "#crear matrizes con 0\r\n",
    "ceros = np.zeros((4,4))\r\n",
    "print(ceros)"
   ],
   "outputs": [
    {
     "output_type": "stream",
     "name": "stdout",
     "text": [
      "[[0. 0. 0. 0.]\n",
      " [0. 0. 0. 0.]\n",
      " [0. 0. 0. 0.]\n",
      " [0. 0. 0. 0.]]\n"
     ]
    }
   ],
   "metadata": {}
  },
  {
   "cell_type": "code",
   "execution_count": 4,
   "source": [
    "#crear matriz vacia\r\n",
    "vacia = np.empty((5,5))\r\n",
    "print(vacia)"
   ],
   "outputs": [
    {
     "output_type": "stream",
     "name": "stdout",
     "text": [
      "[[6.23042070e-307 4.67296746e-307 1.69121096e-306 2.33645148e-307\n",
      "  1.89146896e-307]\n",
      " [7.56571288e-307 3.11525958e-307 1.24610723e-306 1.37962320e-306\n",
      "  1.29060871e-306]\n",
      " [2.22518251e-306 1.33511969e-306 1.78022342e-306 1.05700345e-307\n",
      "  1.11261027e-306]\n",
      " [1.11261502e-306 1.42410839e-306 7.56597770e-307 6.23059726e-307\n",
      "  1.42419530e-306]\n",
      " [7.56599128e-307 1.78022206e-306 8.34451503e-308 2.22507386e-306\n",
      "  2.56761491e-312]]\n"
     ]
    }
   ],
   "metadata": {}
  },
  {
   "cell_type": "code",
   "execution_count": 5,
   "source": [
    "#crear una matriz con valor fijo\r\n",
    "full = np.full((5,5),2)\r\n",
    "print(full)"
   ],
   "outputs": [
    {
     "output_type": "stream",
     "name": "stdout",
     "text": [
      "[[2 2 2 2 2]\n",
      " [2 2 2 2 2]\n",
      " [2 2 2 2 2]\n",
      " [2 2 2 2 2]\n",
      " [2 2 2 2 2]]\n"
     ]
    }
   ],
   "metadata": {}
  },
  {
   "cell_type": "code",
   "execution_count": 6,
   "source": [
    "#matriz identidad\r\n",
    "identidad = np.eye(4,4)\r\n",
    "print(identidad)"
   ],
   "outputs": [
    {
     "output_type": "stream",
     "name": "stdout",
     "text": [
      "[[1. 0. 0. 0.]\n",
      " [0. 1. 0. 0.]\n",
      " [0. 0. 1. 0.]\n",
      " [0. 0. 0. 1.]]\n"
     ]
    }
   ],
   "metadata": {}
  },
  {
   "cell_type": "code",
   "execution_count": 7,
   "source": [
    "#crear arrray con valores espaciados unidormemente\r\n",
    "espacio = np.arange(0,50,5)\r\n",
    "print(espacio)\r\n",
    "espacio1 = np.arange(start=100, stop=1, step=5)\r\n",
    "print(espacio1)\r\n",
    "\r\n",
    "espacio2 = np.linspace(2,10,5)\r\n",
    "print(espacio2)"
   ],
   "outputs": [
    {
     "output_type": "stream",
     "name": "stdout",
     "text": [
      "[ 0  5 10 15 20 25 30 35 40 45]\n",
      "[]\n",
      "[ 2.  4.  6.  8. 10.]\n"
     ]
    }
   ],
   "metadata": {}
  },
  {
   "cell_type": "code",
   "execution_count": 8,
   "source": [
    "#imprimir las dimenciones de una matriz\r\n",
    "print(b.ndim)"
   ],
   "outputs": [
    {
     "output_type": "stream",
     "name": "stdout",
     "text": [
      "2\n"
     ]
    }
   ],
   "metadata": {}
  },
  {
   "cell_type": "code",
   "execution_count": 9,
   "source": [
    "#el tipo de datos de la matriz\r\n",
    "print(full.dtype)"
   ],
   "outputs": [
    {
     "output_type": "stream",
     "name": "stdout",
     "text": [
      "int32\n"
     ]
    }
   ],
   "metadata": {}
  },
  {
   "cell_type": "code",
   "execution_count": 10,
   "source": [
    "#cambiar la forma de la matriz\r\n",
    "m1 = np.array([(1,2,3),(4,5,6)])\r\n",
    "print(m1)\r\n",
    "\r\n",
    "m2 = m1.reshape(3,2)\r\n",
    "print(m2)"
   ],
   "outputs": [
    {
     "output_type": "stream",
     "name": "stdout",
     "text": [
      "[[1 2 3]\n",
      " [4 5 6]]\n",
      "[[1 2]\n",
      " [3 4]\n",
      " [5 6]]\n"
     ]
    }
   ],
   "metadata": {}
  },
  {
   "cell_type": "code",
   "execution_count": 11,
   "source": [
    "#imprimir una columna de la matriz\r\n",
    "print(m2[:0])"
   ],
   "outputs": [
    {
     "output_type": "stream",
     "name": "stdout",
     "text": [
      "[]\n"
     ]
    }
   ],
   "metadata": {}
  },
  {
   "cell_type": "code",
   "execution_count": 12,
   "source": [
    "#imprimir una celda\r\n",
    "print(b[1,1])"
   ],
   "outputs": [
    {
     "output_type": "stream",
     "name": "stdout",
     "text": [
      "5\n"
     ]
    }
   ],
   "metadata": {}
  },
  {
   "cell_type": "code",
   "execution_count": 13,
   "source": [
    "#el valor minimo\r\n",
    "print(b.min())"
   ],
   "outputs": [
    {
     "output_type": "stream",
     "name": "stdout",
     "text": [
      "0\n"
     ]
    }
   ],
   "metadata": {}
  },
  {
   "cell_type": "code",
   "execution_count": 14,
   "source": [
    "#el valor maximo \r\n",
    "print(b.max)"
   ],
   "outputs": [
    {
     "output_type": "stream",
     "name": "stdout",
     "text": [
      "<built-in method max of numpy.ndarray object at 0x0000022C187A4ED0>\n"
     ]
    }
   ],
   "metadata": {}
  },
  {
   "cell_type": "code",
   "execution_count": 15,
   "source": [
    "#suma de los valores\r\n",
    "print(b.sum())"
   ],
   "outputs": [
    {
     "output_type": "stream",
     "name": "stdout",
     "text": [
      "48\n"
     ]
    }
   ],
   "metadata": {}
  },
  {
   "cell_type": "code",
   "execution_count": 16,
   "source": [
    "notas = np.array([(4.5,3.5,2.0),(4.0,5.0,3.5),(4.5,3.5,2.0)])\r\n",
    "print(notas)\r\n",
    "print(np.std(notas))"
   ],
   "outputs": [
    {
     "output_type": "stream",
     "name": "stdout",
     "text": [
      "[[4.5 3.5 2. ]\n",
      " [4.  5.  3.5]\n",
      " [4.5 3.5 2. ]]\n",
      "0.9938079899999066\n"
     ]
    }
   ],
   "metadata": {}
  },
  {
   "cell_type": "code",
   "execution_count": 17,
   "source": [
    "#operaciones con matrices\r\n",
    "x = np.array([(1,2,3),(4,5,6),(7,8,9)])\r\n",
    "y = np.array([(1,2,3),(4,5,6),(7,8,9)])\r\n",
    "print(x + y)\r\n",
    "print(x - y)\r\n",
    "print(x * y)\r\n",
    "print(x / y)"
   ],
   "outputs": [
    {
     "output_type": "stream",
     "name": "stdout",
     "text": [
      "[[ 2  4  6]\n",
      " [ 8 10 12]\n",
      " [14 16 18]]\n",
      "[[0 0 0]\n",
      " [0 0 0]\n",
      " [0 0 0]]\n",
      "[[ 1  4  9]\n",
      " [16 25 36]\n",
      " [49 64 81]]\n",
      "[[1. 1. 1.]\n",
      " [1. 1. 1.]\n",
      " [1. 1. 1.]]\n"
     ]
    }
   ],
   "metadata": {}
  }
 ],
 "metadata": {
  "orig_nbformat": 4,
  "language_info": {
   "name": "python",
   "version": "3.8.6",
   "mimetype": "text/x-python",
   "codemirror_mode": {
    "name": "ipython",
    "version": 3
   },
   "pygments_lexer": "ipython3",
   "nbconvert_exporter": "python",
   "file_extension": ".py"
  },
  "kernelspec": {
   "name": "python3",
   "display_name": "Python 3.8.6rc1 64-bit"
  },
  "interpreter": {
   "hash": "af1d11f93c94f5a7fb6fb141eaf14f8c836a0e70a8c2eaff020a726e9acd3026"
  }
 },
 "nbformat": 4,
 "nbformat_minor": 2
}