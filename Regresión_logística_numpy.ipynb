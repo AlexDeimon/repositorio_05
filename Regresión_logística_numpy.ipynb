{
  "nbformat": 4,
  "nbformat_minor": 0,
  "metadata": {
    "colab": {
      "name": "Regresión_logística_numpy.ipynb",
      "provenance": []
    },
    "kernelspec": {
      "name": "python3",
      "display_name": "Python 3"
    },
    "language_info": {
      "name": "python"
    }
  },
  "cells": [
    {
      "cell_type": "code",
      "metadata": {
        "id": "B6nk13XdBQqH"
      },
      "source": [
        "import matplotlib.pyplot as plt\n",
        "import numpy as np\n",
        "from sklearn.linear_model import LogisticRegression\n",
        "from sklearn.metrics import classification_report, confusion_matrix"
      ],
      "execution_count": 1,
      "outputs": []
    },
    {
      "cell_type": "code",
      "metadata": {
        "colab": {
          "base_uri": "https://localhost:8080/"
        },
        "id": "eGVAz0GAB6oX",
        "outputId": "6bf70223-3244-47c5-d030-27b1d7487849"
      },
      "source": [
        "x = np.arange(10).reshape(-1,1)\n",
        "y = np.array([0,0,0,0,1,1,1,1,1,1])\n",
        "\n",
        "regression = LogisticRegression(solver='liblinear', random_state=0)\n",
        "regression.fit(x,y)"
      ],
      "execution_count": 2,
      "outputs": [
        {
          "output_type": "execute_result",
          "data": {
            "text/plain": [
              "LogisticRegression(C=1.0, class_weight=None, dual=False, fit_intercept=True,\n",
              "                   intercept_scaling=1, l1_ratio=None, max_iter=100,\n",
              "                   multi_class='auto', n_jobs=None, penalty='l2',\n",
              "                   random_state=0, solver='liblinear', tol=0.0001, verbose=0,\n",
              "                   warm_start=False)"
            ]
          },
          "metadata": {},
          "execution_count": 2
        }
      ]
    },
    {
      "cell_type": "code",
      "metadata": {
        "colab": {
          "base_uri": "https://localhost:8080/"
        },
        "id": "LBV1rvuWDMTU",
        "outputId": "b8b1185d-2176-4a34-b3c6-3409d3972ee0"
      },
      "source": [
        "print(regression.classes_)"
      ],
      "execution_count": 3,
      "outputs": [
        {
          "output_type": "stream",
          "name": "stdout",
          "text": [
            "[0 1]\n"
          ]
        }
      ]
    },
    {
      "cell_type": "code",
      "metadata": {
        "colab": {
          "base_uri": "https://localhost:8080/"
        },
        "id": "Hs3RrDHHDZha",
        "outputId": "ef902b8a-bc20-4a36-d0ce-df61e32835c1"
      },
      "source": [
        "aux = regression.predict_proba(x)\n",
        "aux"
      ],
      "execution_count": 5,
      "outputs": [
        {
          "output_type": "execute_result",
          "data": {
            "text/plain": [
              "array([[0.74002157, 0.25997843],\n",
              "       [0.62975524, 0.37024476],\n",
              "       [0.5040632 , 0.4959368 ],\n",
              "       [0.37785549, 0.62214451],\n",
              "       [0.26628093, 0.73371907],\n",
              "       [0.17821501, 0.82178499],\n",
              "       [0.11472079, 0.88527921],\n",
              "       [0.07186982, 0.92813018],\n",
              "       [0.04422513, 0.95577487],\n",
              "       [0.02690569, 0.97309431]])"
            ]
          },
          "metadata": {},
          "execution_count": 5
        }
      ]
    },
    {
      "cell_type": "code",
      "metadata": {
        "colab": {
          "base_uri": "https://localhost:8080/"
        },
        "id": "_xSn3h4RD8mh",
        "outputId": "bec8a753-6d38-4c2a-a550-a94ecaf64049"
      },
      "source": [
        "y_pred = regression.predict(x)\n",
        "y_pred"
      ],
      "execution_count": 6,
      "outputs": [
        {
          "output_type": "execute_result",
          "data": {
            "text/plain": [
              "array([0, 0, 0, 1, 1, 1, 1, 1, 1, 1])"
            ]
          },
          "metadata": {},
          "execution_count": 6
        }
      ]
    }
  ]
}