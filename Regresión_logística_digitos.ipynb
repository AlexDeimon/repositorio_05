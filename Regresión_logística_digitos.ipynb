{
  "nbformat": 4,
  "nbformat_minor": 0,
  "metadata": {
    "colab": {
      "name": "Regresión_logística_digitos.ipynb",
      "provenance": []
    },
    "kernelspec": {
      "name": "python3",
      "display_name": "Python 3"
    },
    "language_info": {
      "name": "python"
    }
  },
  "cells": [
    {
      "cell_type": "code",
      "metadata": {
        "id": "JfTEJF3aFtAl"
      },
      "source": [
        "import matplotlib.pyplot as plt\n",
        "import numpy as np\n",
        "from sklearn.linear_model import LogisticRegression\n",
        "from sklearn.metrics import classification_report, confusion_matrix\n",
        "from sklearn.datasets import load_digits\n",
        "from sklearn.model_selection import train_test_split\n",
        "from sklearn.preprocessing import StandardScaler"
      ],
      "execution_count": 2,
      "outputs": []
    },
    {
      "cell_type": "code",
      "metadata": {
        "colab": {
          "base_uri": "https://localhost:8080/"
        },
        "id": "1mTxv8CWGXss",
        "outputId": "7b14ed0d-ec60-4df6-9880-f1bfa6ec6173"
      },
      "source": [
        "x, y = load_digits(return_X_y=True)\n",
        "x"
      ],
      "execution_count": 12,
      "outputs": [
        {
          "output_type": "execute_result",
          "data": {
            "text/plain": [
              "array([[ 0.,  0.,  5., ...,  0.,  0.,  0.],\n",
              "       [ 0.,  0.,  0., ..., 10.,  0.,  0.],\n",
              "       [ 0.,  0.,  0., ..., 16.,  9.,  0.],\n",
              "       ...,\n",
              "       [ 0.,  0.,  1., ...,  6.,  0.,  0.],\n",
              "       [ 0.,  0.,  2., ..., 12.,  0.,  0.],\n",
              "       [ 0.,  0., 10., ..., 12.,  1.,  0.]])"
            ]
          },
          "metadata": {},
          "execution_count": 12
        }
      ]
    },
    {
      "cell_type": "code",
      "metadata": {
        "colab": {
          "base_uri": "https://localhost:8080/"
        },
        "id": "EZEfXZOpGiv5",
        "outputId": "a63ee5fb-b9cb-44f1-dfa2-9d18dbebb710"
      },
      "source": [
        "y"
      ],
      "execution_count": 13,
      "outputs": [
        {
          "output_type": "execute_result",
          "data": {
            "text/plain": [
              "array([0, 1, 2, ..., 8, 9, 8])"
            ]
          },
          "metadata": {},
          "execution_count": 13
        }
      ]
    },
    {
      "cell_type": "code",
      "metadata": {
        "id": "scXw8et3GlyT"
      },
      "source": [
        "x_train, x_test, y_train, y_test = train_test_split(x,y, test_size = 0.2)\n",
        "scaler = StandardScaler()\n",
        "x_train = scaler.fit_transform(x_train)"
      ],
      "execution_count": 14,
      "outputs": []
    },
    {
      "cell_type": "code",
      "metadata": {
        "colab": {
          "base_uri": "https://localhost:8080/"
        },
        "id": "Lw_tJvqZHs__",
        "outputId": "c713a12b-f26f-4561-ac22-7ecef803a417"
      },
      "source": [
        "regression = LogisticRegression(penalty='l2', dual=False, tol=0.0001, C=1.0, fit_intercept=True, intercept_scaling=1, class_weight=None, random_state=None, solver='lbfgs', max_iter=100, multi_class='auto', verbose=0, warm_start=False, n_jobs=None, l1_ratio=None)\n",
        "regression.fit(x_train, y_train)\n",
        "print(regression.classes_)"
      ],
      "execution_count": 15,
      "outputs": [
        {
          "output_type": "stream",
          "name": "stdout",
          "text": [
            "[0 1 2 3 4 5 6 7 8 9]\n"
          ]
        }
      ]
    },
    {
      "cell_type": "code",
      "metadata": {
        "colab": {
          "base_uri": "https://localhost:8080/"
        },
        "id": "ltCe9AWgIO0u",
        "outputId": "98c84b1b-359b-4af9-9f30-2a17eebcfb09"
      },
      "source": [
        "x_test = scaler.fit_transform(x_test)\n",
        "y_pred = regression.predict(x_test)\n",
        "y_pred"
      ],
      "execution_count": 16,
      "outputs": [
        {
          "output_type": "execute_result",
          "data": {
            "text/plain": [
              "array([1, 2, 5, 9, 4, 3, 3, 6, 9, 1, 9, 6, 3, 2, 8, 0, 6, 6, 3, 8, 2, 1,\n",
              "       6, 2, 9, 2, 4, 1, 0, 3, 9, 5, 0, 4, 2, 1, 6, 0, 9, 9, 2, 4, 0, 4,\n",
              "       9, 5, 7, 9, 6, 8, 0, 3, 4, 3, 4, 2, 5, 3, 8, 8, 6, 4, 1, 2, 3, 0,\n",
              "       8, 5, 6, 3, 5, 0, 4, 6, 5, 1, 3, 9, 2, 4, 7, 1, 2, 3, 5, 5, 3, 5,\n",
              "       3, 8, 9, 9, 7, 7, 3, 4, 5, 9, 2, 9, 2, 2, 8, 8, 2, 2, 6, 8, 8, 3,\n",
              "       6, 9, 4, 2, 6, 6, 0, 3, 3, 3, 8, 5, 4, 0, 0, 8, 9, 6, 4, 6, 1, 7,\n",
              "       6, 5, 0, 4, 0, 0, 1, 6, 1, 4, 4, 7, 2, 2, 5, 3, 3, 1, 0, 4, 4, 4,\n",
              "       4, 6, 0, 9, 1, 2, 3, 0, 8, 1, 2, 7, 0, 0, 0, 2, 6, 9, 7, 1, 6, 3,\n",
              "       6, 5, 1, 7, 5, 7, 7, 6, 3, 5, 4, 1, 5, 1, 7, 3, 0, 7, 1, 7, 1, 7,\n",
              "       7, 7, 5, 8, 9, 1, 6, 0, 4, 9, 2, 5, 2, 4, 1, 3, 7, 5, 1, 2, 7, 1,\n",
              "       6, 4, 0, 2, 1, 9, 9, 6, 8, 6, 8, 9, 7, 6, 8, 4, 7, 8, 0, 3, 1, 3,\n",
              "       3, 8, 6, 2, 0, 4, 8, 6, 3, 4, 5, 1, 0, 0, 8, 3, 3, 2, 9, 0, 0, 5,\n",
              "       4, 5, 7, 2, 7, 9, 4, 5, 2, 4, 7, 8, 7, 1, 7, 2, 8, 8, 7, 3, 8, 5,\n",
              "       0, 3, 5, 6, 2, 9, 0, 1, 3, 1, 4, 6, 1, 5, 8, 3, 8, 0, 2, 3, 9, 8,\n",
              "       0, 5, 3, 8, 9, 2, 4, 8, 6, 1, 3, 5, 8, 5, 0, 9, 9, 0, 8, 3, 0, 3,\n",
              "       4, 7, 1, 8, 9, 3, 3, 1, 2, 5, 2, 1, 2, 9, 8, 1, 7, 3, 2, 7, 6, 5,\n",
              "       1, 8, 9, 7, 5, 2, 9, 1])"
            ]
          },
          "metadata": {},
          "execution_count": 16
        }
      ]
    },
    {
      "cell_type": "code",
      "metadata": {
        "colab": {
          "base_uri": "https://localhost:8080/"
        },
        "id": "KusiidUcIb8s",
        "outputId": "25f93d97-6795-4c20-ec52-829d787220a2"
      },
      "source": [
        "regression.score(x_test,y_test)"
      ],
      "execution_count": 17,
      "outputs": [
        {
          "output_type": "execute_result",
          "data": {
            "text/plain": [
              "0.9638888888888889"
            ]
          },
          "metadata": {},
          "execution_count": 17
        }
      ]
    }
  ]
}