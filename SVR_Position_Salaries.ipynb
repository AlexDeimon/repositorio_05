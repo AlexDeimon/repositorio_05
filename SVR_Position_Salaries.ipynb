{
  "nbformat": 4,
  "nbformat_minor": 0,
  "metadata": {
    "colab": {
      "name": "SVR_Position_Salaries.ipynb",
      "provenance": []
    },
    "kernelspec": {
      "name": "python3",
      "display_name": "Python 3"
    },
    "language_info": {
      "name": "python"
    }
  },
  "cells": [
    {
      "cell_type": "code",
      "metadata": {
        "id": "Dvx1uecpGvZ_"
      },
      "source": [
        "import pandas as pd\n",
        "import numpy as np\n",
        "data = pd.read_csv('Position_Salaries.csv')\n",
        "X = data.iloc[:,1:2].values\n",
        "y = data.iloc[:,2:3].values"
      ],
      "execution_count": 24,
      "outputs": []
    },
    {
      "cell_type": "code",
      "metadata": {
        "id": "nf68ALaIIdNa"
      },
      "source": [
        "#Ajustando escala\n",
        "from sklearn.preprocessing import StandardScaler\n",
        "X_sc = StandardScaler()\n",
        "y_sc = StandardScaler()\n",
        "X = X_sc.fit_transform(X)\n",
        "y = y_sc.fit_transform(y)"
      ],
      "execution_count": 25,
      "outputs": []
    },
    {
      "cell_type": "code",
      "metadata": {
        "colab": {
          "base_uri": "https://localhost:8080/"
        },
        "id": "dKLRKjmaI-Aa",
        "outputId": "ca3cae18-e635-452c-cd18-e9d82446743e"
      },
      "source": [
        "#aplicando algoritmo\n",
        "from sklearn.svm import SVR\n",
        "vector = SVR()\n",
        "vector.fit(X,y)"
      ],
      "execution_count": 26,
      "outputs": [
        {
          "output_type": "stream",
          "name": "stderr",
          "text": [
            "/usr/local/lib/python3.7/dist-packages/sklearn/utils/validation.py:760: DataConversionWarning: A column-vector y was passed when a 1d array was expected. Please change the shape of y to (n_samples, ), for example using ravel().\n",
            "  y = column_or_1d(y, warn=True)\n"
          ]
        },
        {
          "output_type": "execute_result",
          "data": {
            "text/plain": [
              "SVR(C=1.0, cache_size=200, coef0=0.0, degree=3, epsilon=0.1, gamma='scale',\n",
              "    kernel='rbf', max_iter=-1, shrinking=True, tol=0.001, verbose=False)"
            ]
          },
          "metadata": {},
          "execution_count": 26
        }
      ]
    },
    {
      "cell_type": "code",
      "metadata": {
        "id": "lRAtiIgnJS56"
      },
      "source": [
        "x_trans = X_sc.transform([[6.5]])\n",
        "y_pred = vector.predict(x_trans)\n",
        "y_pred = y_sc.inverse_transform(y_pred)"
      ],
      "execution_count": 27,
      "outputs": []
    },
    {
      "cell_type": "code",
      "metadata": {
        "colab": {
          "base_uri": "https://localhost:8080/",
          "height": 458
        },
        "id": "gsb_XRRjLSJc",
        "outputId": "4301fa69-d0fc-4be1-ef1b-1793c3c7295e"
      },
      "source": [
        "#graficando\n",
        "import matplotlib.pyplot as plt\n",
        "x_real = X_sc.inverse_transform(X)\n",
        "y_real = y_sc.inverse_transform(y)\n",
        "x_grid = np.arange(min(x_real), max(x_real), 0.01)\n",
        "x_grid = x_grid.reshape(len(x_grid), 1)\n",
        "x_grid_trans = X_sc.transform(x_grid)\n",
        "y_grid = vector.predict(x_grid_trans)\n",
        "y_grid_real = y_sc.inverse_transform(y_grid)\n",
        "plt.figure(figsize = (10,7))\n",
        "plt.scatter(x_real,y_real,color='red')\n",
        "plt.plot(x_grid, y_grid_real, color='blue')\n",
        "plt.title('SVR')\n",
        "plt.xlabel('nivel salarial')\n",
        "plt.ylabel('salario')\n",
        "plt.show()"
      ],
      "execution_count": 28,
      "outputs": [
        {
          "output_type": "display_data",
          "data": {
            "image/png": "[encoded data removed]",
            "text/plain": [
              "<Figure size 720x504 with 1 Axes>"
            ]
          },
          "metadata": {
            "needs_background": "light"
          }
        }
      ]
    }
  ]
}