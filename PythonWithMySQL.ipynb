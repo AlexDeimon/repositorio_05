{
  "nbformat": 4,
  "nbformat_minor": 0,
  "metadata": {
    "colab": {
      "name": "PythonWithMySQL.ipynb",
      "provenance": []
    },
    "kernelspec": {
      "name": "python3",
      "display_name": "Python 3"
    }
  },
  "cells": [
    {
      "cell_type": "markdown",
      "metadata": {
        "id": "3SLQFYw0cgQp"
      },
      "source": [
        "**Trabajando MySQL desde Python**"
      ]
    },
    {
      "cell_type": "markdown",
      "metadata": {
        "id": "BGdWsq6CcCuN"
      },
      "source": [
        "Con Python se pueden trabajar aplicaciones que usen Bases de Datos, y uno de los motores de bases de datos más populares es MySQL.\n",
        "\n",
        "Generalmente este tipo de aplicaciones se trabaja para leer los datos de las bases de datos de dichos motores, pero en ocasiones se desarrollan aplicaciones transaccionales con Python y estos motores de bases de datos."
      ]
    },
    {
      "cell_type": "markdown",
      "metadata": {
        "id": "so6IQlzycpiQ"
      },
      "source": [
        "Para poder elaborar el siguiente tutorial se debe tener instalado MySQL en su computador."
      ]
    },
    {
      "cell_type": "markdown",
      "metadata": {
        "id": "5KWq9LmIdRlm"
      },
      "source": [
        "**Instalar el controlador MySQL**\n",
        "\n",
        "Python necesita un controlador MySQL para acceder a la base de datos MySQL (MySQL Connector).\n",
        "Use el comanto PIP para instalar el controlador.\n",
        "Lo más probable es que PIP ya esté instalado en su entorno Python.\n",
        "El comando para la instalación sería:\n",
        "python -m pip install mysql-connector-python, si está trabajando en un entorno como colab, ejecute el comando que se muestra a continuación."
      ]
    },
    {
      "cell_type": "code",
      "metadata": {
        "id": "sF9eehqhd3Tu",
        "colab": {
          "base_uri": "https://localhost:8080/",
          "height": 176
        },
        "outputId": "09871092-6a9c-47f8-8026-6826feb021f3"
      },
      "source": [
        "pip install mysql-connector-python"
      ],
      "execution_count": null,
      "outputs": [
        {
          "output_type": "stream",
          "text": [
            "Collecting mysql-connector-python\n",
            "\u001b[?25l  Downloading https://files.pythonhosted.org/packages/ce/1d/378f92f45fb98d7e033f6a94b0600b8ae496e67ba411b992f536784a3d0d/mysql_connector_python-8.0.21-cp36-cp36m-manylinux1_x86_64.whl (15.8MB)\n",
            "\u001b[K     |████████████████████████████████| 15.8MB 297kB/s \n",
            "\u001b[?25hRequirement already satisfied: protobuf>=3.0.0 in /usr/local/lib/python3.6/dist-packages (from mysql-connector-python) (3.12.4)\n",
            "Requirement already satisfied: setuptools in /usr/local/lib/python3.6/dist-packages (from protobuf>=3.0.0->mysql-connector-python) (49.6.0)\n",
            "Requirement already satisfied: six>=1.9 in /usr/local/lib/python3.6/dist-packages (from protobuf>=3.0.0->mysql-connector-python) (1.15.0)\n",
            "Installing collected packages: mysql-connector-python\n",
            "Successfully installed mysql-connector-python-8.0.21\n"
          ],
          "name": "stdout"
        }
      ]
    },
    {
      "cell_type": "markdown",
      "metadata": {
        "id": "topKkiShdugL"
      },
      "source": [
        "Para probar si la instalación fue exitosa, o si ya tiene instalado \"MySQL Connector\", ejecute el siguiente contenido:\n"
      ]
    },
    {
      "cell_type": "code",
      "metadata": {
        "id": "eMZ6CC-leFG1"
      },
      "source": [
        "import mysql.connector"
      ],
      "execution_count": null,
      "outputs": []
    },
    {
      "cell_type": "markdown",
      "metadata": {
        "id": "bNPOAccjecVn"
      },
      "source": [
        "Si el código anterior se ejecutó sin errores, \"MySQL Connector\" está instalado y listo para ser utilizado."
      ]
    },
    {
      "cell_type": "markdown",
      "metadata": {
        "id": "iwprvlvOesbP"
      },
      "source": [
        "**Crear conexión**\n",
        "\n",
        "Comience creando una conexión a la base de datos.\n",
        "Utilice el nombre de usuario y la contraseña de su base de datos MySQL:"
      ]
    },
    {
      "cell_type": "code",
      "metadata": {
        "id": "yk3mD_W9ewRo",
        "colab": {
          "base_uri": "https://localhost:8080/",
          "height": 35
        },
        "outputId": "26bd9c2b-d8a5-4982-c135-1c92e525ab28"
      },
      "source": [
        "mydb = mysql.connector.connect(\n",
        "  host=\"167.86.105.47\",\n",
        "  user=\"root\",\n",
        "  password=\"\"\n",
        ")\n",
        "print(mydb)"
      ],
      "execution_count": null,
      "outputs": [
        {
          "output_type": "stream",
          "text": [
            "<mysql.connector.connection_cext.CMySQLConnection object at 0x7f95336da048>\n"
          ],
          "name": "stdout"
        }
      ]
    },
    {
      "cell_type": "markdown",
      "metadata": {
        "id": "6LcRWrSPgHJl"
      },
      "source": [
        "Vamos a crear una base de datos en este servidor y una tabla para hacer las pruebas correspondientes."
      ]
    },
    {
      "cell_type": "code",
      "metadata": {
        "id": "QZtqi10dgOnj"
      },
      "source": [
        "mycursor = mydb.cursor()\n",
        "mycursor.execute(\"CREATE DATABASE pythonmysql\")"
      ],
      "execution_count": null,
      "outputs": []
    },
    {
      "cell_type": "markdown",
      "metadata": {
        "id": "ABGWRRJTgf-2"
      },
      "source": [
        "Si el código anterior se ejecutó sin errores, ha creado correctamente una base de datos.\n",
        "\n",
        "Puede verificar si existe la base de datos, intentaremos entrar en ella, al momento de realizar la conexión. Modifiquemos la función de la conexión, así:"
      ]
    },
    {
      "cell_type": "code",
      "metadata": {
        "id": "2WHzVk3jg1mu",
        "colab": {
          "base_uri": "https://localhost:8080/",
          "height": 35
        },
        "outputId": "6dcc38bf-aa8c-4d05-c6e1-f87fdc55c597"
      },
      "source": [
        "mydb = mysql.connector.connect(\n",
        "  host=\"167.86.105.47\",\n",
        "  user=\"root\",\n",
        "  password=\"\",\n",
        "  database=\"pythonmysql\"\n",
        ")\n",
        "print(mydb)"
      ],
      "execution_count": null,
      "outputs": [
        {
          "output_type": "stream",
          "text": [
            "<mysql.connector.connection_cext.CMySQLConnection object at 0x7f95336da6d8>\n"
          ],
          "name": "stdout"
        }
      ]
    },
    {
      "cell_type": "markdown",
      "metadata": {
        "id": "HmNwzhFxg_b9"
      },
      "source": [
        "Si la base de datos no existe, obtendrá un error."
      ]
    },
    {
      "cell_type": "markdown",
      "metadata": {
        "id": "dCK3OR-rhDZX"
      },
      "source": [
        "**Crear una tabla**"
      ]
    },
    {
      "cell_type": "code",
      "metadata": {
        "id": "O58aXN4ThUHX",
        "colab": {
          "base_uri": "https://localhost:8080/",
          "height": 35
        },
        "outputId": "c1530a28-3d92-44da-f336-2764a7ede055"
      },
      "source": [
        "mycursor = mydb.cursor()\n",
        "mycursor.execute(\"CREATE TABLE users (email VARCHAR(255), password VARCHAR(50))\")\n",
        "#Verificamos inmediatamente si la tabla existe\n",
        "mycursor = mydb.cursor()\n",
        "mycursor.execute(\"SHOW TABLES\")\n",
        "for x in mycursor:\n",
        "  print(x)\n",
        "mycursor.execute(\"ALTER TABLE users ADD PRIMARY KEY(email)\")"
      ],
      "execution_count": null,
      "outputs": [
        {
          "output_type": "stream",
          "text": [
            "('users',)\n"
          ],
          "name": "stdout"
        }
      ]
    },
    {
      "cell_type": "markdown",
      "metadata": {
        "id": "tjRwNNHdjMwQ"
      },
      "source": [
        "**Elaborando el CRUD**"
      ]
    },
    {
      "cell_type": "markdown",
      "metadata": {
        "id": "r4BIrC0FjQkx"
      },
      "source": [
        "**Insertar**"
      ]
    },
    {
      "cell_type": "code",
      "metadata": {
        "id": "dhtjN26JjULC",
        "colab": {
          "base_uri": "https://localhost:8080/",
          "height": 35
        },
        "outputId": "c7fdb549-cbc6-4742-c251-e06ce4b5502f"
      },
      "source": [
        "sql = \"INSERT INTO users(email, password) VALUES (%s, %s)\"\n",
        "val = (\"fredyssimanca@hotmail.com\", \"123456\")\n",
        "mycursor.execute(sql, val)\n",
        "mydb.commit()\n",
        "print(mycursor.rowcount, \"Usuario insertado.\")"
      ],
      "execution_count": null,
      "outputs": [
        {
          "output_type": "stream",
          "text": [
            "1 Usuario insertado.\n"
          ],
          "name": "stdout"
        }
      ]
    },
    {
      "cell_type": "markdown",
      "metadata": {
        "id": "_ZaYKDkMj1GA"
      },
      "source": [
        "**Insertar varias filas**"
      ]
    },
    {
      "cell_type": "code",
      "metadata": {
        "id": "nNiNagPyj3PI",
        "colab": {
          "base_uri": "https://localhost:8080/",
          "height": 35
        },
        "outputId": "7df06859-fcdd-42d3-de26-6353ebd4b480"
      },
      "source": [
        "sql = \"INSERT INTO users(email, password) VALUES (%s, %s)\"\n",
        "val = [\n",
        "  ('test1@test.com', '123456'),\n",
        "  ('test2@test.com', '123456'),\n",
        "  ('test3@test.com', '123456'),\n",
        "  ('test4@test.com', '123456'),\n",
        "  ('test5@test.com', '123456'),\n",
        "  ('test6@test.com', '123456'),\n",
        "  ('test7@test.com', '123456'),\n",
        "  ('test8@test.com', '123456'),\n",
        "  ('test9@test.com', '123456'),\n",
        "  ('test10@test.com', '123456')\n",
        "]\n",
        "mycursor.executemany(sql, val)\n",
        "mydb.commit()\n",
        "print(mycursor.rowcount, \"fueron insertados.\")"
      ],
      "execution_count": null,
      "outputs": [
        {
          "output_type": "stream",
          "text": [
            "10 fueron insertados.\n"
          ],
          "name": "stdout"
        }
      ]
    },
    {
      "cell_type": "markdown",
      "metadata": {
        "id": "cSibse0Dkk4I"
      },
      "source": [
        "**Consultar un registro**"
      ]
    },
    {
      "cell_type": "code",
      "metadata": {
        "id": "mMrIIEjPkpCW",
        "colab": {
          "base_uri": "https://localhost:8080/",
          "height": 35
        },
        "outputId": "455bfd90-68ae-4397-c965-0aae8c536dad"
      },
      "source": [
        "sql = \"SELECT * FROM users WHERE email = %s\"\n",
        "adr = (\"test5@test.com\", )\n",
        "mycursor.execute(sql, adr)\n",
        "myresult = mycursor.fetchall()\n",
        "for x in myresult:\n",
        "  print(x)"
      ],
      "execution_count": null,
      "outputs": [
        {
          "output_type": "stream",
          "text": [
            "('test5@test.com', '123456')\n"
          ],
          "name": "stdout"
        }
      ]
    },
    {
      "cell_type": "markdown",
      "metadata": {
        "id": "7ivqvzjblTFW"
      },
      "source": [
        "**Eliminar un registro**"
      ]
    },
    {
      "cell_type": "code",
      "metadata": {
        "id": "LiET5heJlV8Y",
        "colab": {
          "base_uri": "https://localhost:8080/",
          "height": 35
        },
        "outputId": "da8a41c8-fdcf-4a96-e305-5e3ef21187a4"
      },
      "source": [
        "sql = \"DELETE FROM users WHERE email = 'test10@test.com'\"\n",
        "mycursor.execute(sql)\n",
        "mydb.commit()\n",
        "print(mycursor.rowcount, \"Registro eliminado\")"
      ],
      "execution_count": null,
      "outputs": [
        {
          "output_type": "stream",
          "text": [
            "1 Registro eliminado\n"
          ],
          "name": "stdout"
        }
      ]
    },
    {
      "cell_type": "markdown",
      "metadata": {
        "id": "18-XTbx-llt-"
      },
      "source": [
        "Para prevenir la inyección de SQL en Python, se puede usar la siguiente estructura, está ya fue trabajada en la opción de consulta de registros."
      ]
    },
    {
      "cell_type": "code",
      "metadata": {
        "id": "sscGw3XWlxoR",
        "colab": {
          "base_uri": "https://localhost:8080/",
          "height": 35
        },
        "outputId": "a1c541d1-9f1e-47dd-803d-f679bb077ef6"
      },
      "source": [
        "sql = \"DELETE FROM users WHERE email = %s\"\n",
        "adr = (\"test1@test.com\", )\n",
        "mycursor.execute(sql, adr)\n",
        "mydb.commit()\n",
        "print(mycursor.rowcount, \"registro eliminado\")"
      ],
      "execution_count": null,
      "outputs": [
        {
          "output_type": "stream",
          "text": [
            "1 registro eliminado\n"
          ],
          "name": "stdout"
        }
      ]
    },
    {
      "cell_type": "markdown",
      "metadata": {
        "id": "GPw_AJXFrI9T"
      },
      "source": [
        "**Actualización de registros**"
      ]
    },
    {
      "cell_type": "code",
      "metadata": {
        "id": "UhmOW5AurOZY",
        "colab": {
          "base_uri": "https://localhost:8080/",
          "height": 35
        },
        "outputId": "9e61ff34-239f-4897-df40-0039e6908e22"
      },
      "source": [
        "sql = \"UPDATE users SET password = '1234' WHERE email = 'fredyssimanca@hotmail.com'\"\n",
        "mycursor.execute(sql)\n",
        "mydb.commit()\n",
        "print(mycursor.rowcount, \"registro actualizado\")"
      ],
      "execution_count": null,
      "outputs": [
        {
          "output_type": "stream",
          "text": [
            "1 registro actualizado\n"
          ],
          "name": "stdout"
        }
      ]
    }
  ]
}