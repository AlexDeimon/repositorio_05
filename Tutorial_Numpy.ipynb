{
  "nbformat": 4,
  "nbformat_minor": 0,
  "metadata": {
    "colab": {
      "name": "Tutorial Numpy",
      "provenance": [],
      "toc_visible": true
    },
    "kernelspec": {
      "name": "python3",
      "display_name": "Python 3"
    }
  },
  "cells": [
    {
      "cell_type": "markdown",
      "metadata": {
        "id": "LYBwiEQ2dG8f"
      },
      "source": [
        "Importar numpy"
      ]
    },
    {
      "cell_type": "code",
      "metadata": {
        "id": "umMaTdRlC6fU"
      },
      "source": [
        "import numpy as np"
      ],
      "execution_count": null,
      "outputs": []
    },
    {
      "cell_type": "markdown",
      "metadata": {
        "id": "_tqyZ37rdJEu"
      },
      "source": [
        "Arreglos (arrays)"
      ]
    },
    {
      "cell_type": "code",
      "metadata": {
        "id": "6w-arbRyEqB2"
      },
      "source": [
        "arr1 = [[1,2,3],\n",
        " [4,5,6],\n",
        " [7,8,9],\n",
        " [10,11,12]]"
      ],
      "execution_count": null,
      "outputs": []
    },
    {
      "cell_type": "code",
      "metadata": {
        "colab": {
          "base_uri": "https://localhost:8080/"
        },
        "id": "UtbJqx9VDwBD",
        "outputId": "d36c89e5-f2ca-44b3-95a7-f71fb4b64cf7"
      },
      "source": [
        "#Sacamos copia del arr1\n",
        "arr2 = np.array(arr1)\n",
        "#imprimimos la columna 0\n",
        "arr2[:, 0]"
      ],
      "execution_count": null,
      "outputs": [
        {
          "output_type": "execute_result",
          "data": {
            "text/plain": [
              "array([ 1,  4,  7, 10])"
            ]
          },
          "metadata": {
            "tags": []
          },
          "execution_count": 10
        }
      ]
    },
    {
      "cell_type": "markdown",
      "metadata": {
        "id": "67TURL4fdOlf"
      },
      "source": [
        "Tipos de datos en numpy"
      ]
    },
    {
      "cell_type": "code",
      "metadata": {
        "id": "M2lPByQGdRdu"
      },
      "source": [
        "arr3 = arr2.astype(np.int32)"
      ],
      "execution_count": null,
      "outputs": []
    },
    {
      "cell_type": "code",
      "metadata": {
        "colab": {
          "base_uri": "https://localhost:8080/"
        },
        "id": "Vlmkev81Fg9Z",
        "outputId": "42ede1e9-5a9d-4764-cb01-343c699573a3"
      },
      "source": [
        "arr3.dtype"
      ],
      "execution_count": null,
      "outputs": [
        {
          "output_type": "execute_result",
          "data": {
            "text/plain": [
              "dtype('int32')"
            ]
          },
          "metadata": {
            "tags": []
          },
          "execution_count": 13
        }
      ]
    },
    {
      "cell_type": "code",
      "metadata": {
        "id": "syc5DmznF3PH"
      },
      "source": [
        "arr3[0, 0] = 1000"
      ],
      "execution_count": null,
      "outputs": []
    },
    {
      "cell_type": "code",
      "metadata": {
        "colab": {
          "base_uri": "https://localhost:8080/"
        },
        "id": "JJhAdqp4F9pU",
        "outputId": "9b885d3c-bb66-4e2d-ecb9-aa081cd7eb82"
      },
      "source": [
        "arr3"
      ],
      "execution_count": null,
      "outputs": [
        {
          "output_type": "execute_result",
          "data": {
            "text/plain": [
              "array([[1000,    2,    3],\n",
              "       [   4,    5,    6],\n",
              "       [   7,    8,    9],\n",
              "       [  10,   11,   12]], dtype=int32)"
            ]
          },
          "metadata": {
            "tags": []
          },
          "execution_count": 16
        }
      ]
    },
    {
      "cell_type": "code",
      "metadata": {
        "colab": {
          "base_uri": "https://localhost:8080/"
        },
        "id": "MWWlj1oVGMpE",
        "outputId": "fceb4994-1778-44b1-c5a1-a1f82cbc769c"
      },
      "source": [
        "arr4 = np.array([1.3,3.4,5.3])\n",
        "arr4.astype(np.float32)"
      ],
      "execution_count": null,
      "outputs": [
        {
          "output_type": "execute_result",
          "data": {
            "text/plain": [
              "array([1.3, 3.4, 5.3], dtype=float32)"
            ]
          },
          "metadata": {
            "tags": []
          },
          "execution_count": 17
        }
      ]
    },
    {
      "cell_type": "code",
      "metadata": {
        "colab": {
          "base_uri": "https://localhost:8080/"
        },
        "id": "arkuuCUwGvM_",
        "outputId": "b6bd700f-b04a-45ff-af80-8563ea7f7a1b"
      },
      "source": [
        "arr4.astype(np.int64)"
      ],
      "execution_count": null,
      "outputs": [
        {
          "output_type": "execute_result",
          "data": {
            "text/plain": [
              "array([1, 3, 5])"
            ]
          },
          "metadata": {
            "tags": []
          },
          "execution_count": 18
        }
      ]
    },
    {
      "cell_type": "code",
      "metadata": {
        "colab": {
          "base_uri": "https://localhost:8080/"
        },
        "id": "1HyUENIGG2xS",
        "outputId": "84ba10f6-a4b8-4398-e5c8-6bdaa75124e7"
      },
      "source": [
        "arr5 = np.array(['a', 'b', 'c'])\n",
        "arr5.dtype"
      ],
      "execution_count": null,
      "outputs": [
        {
          "output_type": "execute_result",
          "data": {
            "text/plain": [
              "dtype('<U1')"
            ]
          },
          "metadata": {
            "tags": []
          },
          "execution_count": 19
        }
      ]
    },
    {
      "cell_type": "markdown",
      "metadata": {
        "id": "G42bPikrrInD"
      },
      "source": [
        "shape"
      ]
    },
    {
      "cell_type": "code",
      "metadata": {
        "id": "98N6dXFYrRBr",
        "colab": {
          "base_uri": "https://localhost:8080/"
        },
        "outputId": "03f31ee2-27c8-47dc-81d9-57820d3720c4"
      },
      "source": [
        "arr2"
      ],
      "execution_count": null,
      "outputs": [
        {
          "output_type": "execute_result",
          "data": {
            "text/plain": [
              "array([[ 1,  2,  3],\n",
              "       [ 4,  5,  6],\n",
              "       [ 7,  8,  9],\n",
              "       [10, 11, 12]])"
            ]
          },
          "metadata": {
            "tags": []
          },
          "execution_count": 20
        }
      ]
    },
    {
      "cell_type": "code",
      "metadata": {
        "colab": {
          "base_uri": "https://localhost:8080/"
        },
        "id": "2qXPMM1THTKd",
        "outputId": "84fe37b6-e11c-40e9-9a1e-740396cd6eac"
      },
      "source": [
        "arr2.shape"
      ],
      "execution_count": null,
      "outputs": [
        {
          "output_type": "execute_result",
          "data": {
            "text/plain": [
              "(4, 3)"
            ]
          },
          "metadata": {
            "tags": []
          },
          "execution_count": 22
        }
      ]
    },
    {
      "cell_type": "markdown",
      "metadata": {
        "id": "X-6Si3YevhWb"
      },
      "source": [
        "reshape"
      ]
    },
    {
      "cell_type": "code",
      "metadata": {
        "id": "6_IDshxUvkfN",
        "colab": {
          "base_uri": "https://localhost:8080/"
        },
        "outputId": "dbd43dca-281b-4827-e1e3-8666ba093820"
      },
      "source": [
        "arr2.reshape((2,-1,6))"
      ],
      "execution_count": null,
      "outputs": [
        {
          "output_type": "execute_result",
          "data": {
            "text/plain": [
              "array([[[ 1,  2,  3,  4,  5,  6]],\n",
              "\n",
              "       [[ 7,  8,  9, 10, 11, 12]]])"
            ]
          },
          "metadata": {
            "tags": []
          },
          "execution_count": 23
        }
      ]
    },
    {
      "cell_type": "markdown",
      "metadata": {
        "id": "PNtRWPu10dGX"
      },
      "source": [
        "astype"
      ]
    },
    {
      "cell_type": "markdown",
      "metadata": {
        "id": "Yyyu2mtjdR92"
      },
      "source": [
        "# creando arrays"
      ]
    },
    {
      "cell_type": "markdown",
      "metadata": {
        "id": "8NkXJ6FAdYHg"
      },
      "source": [
        "zeros"
      ]
    },
    {
      "cell_type": "code",
      "metadata": {
        "id": "bDOqEeqnePNC"
      },
      "source": [
        "arr6 = np.zeros((4,5),dtype=int)"
      ],
      "execution_count": null,
      "outputs": []
    },
    {
      "cell_type": "markdown",
      "metadata": {
        "id": "GoNofP97d-nZ"
      },
      "source": [
        "ones"
      ]
    },
    {
      "cell_type": "code",
      "metadata": {
        "id": "ZWNUw4caeQvj",
        "colab": {
          "base_uri": "https://localhost:8080/"
        },
        "outputId": "6cb46a48-9250-46b1-f43e-34e250f5adf4"
      },
      "source": [
        "np.ones((2,15))"
      ],
      "execution_count": null,
      "outputs": [
        {
          "output_type": "execute_result",
          "data": {
            "text/plain": [
              "array([[1., 1., 1., 1., 1., 1., 1., 1., 1., 1., 1., 1., 1., 1., 1.],\n",
              "       [1., 1., 1., 1., 1., 1., 1., 1., 1., 1., 1., 1., 1., 1., 1.]])"
            ]
          },
          "metadata": {
            "tags": []
          },
          "execution_count": 34
        }
      ]
    },
    {
      "cell_type": "markdown",
      "metadata": {
        "id": "sjlsy3j10WK2"
      },
      "source": [
        "full"
      ]
    },
    {
      "cell_type": "code",
      "metadata": {
        "id": "C5eNCVD60WZK",
        "colab": {
          "base_uri": "https://localhost:8080/"
        },
        "outputId": "06826001-b28a-4d61-fc62-82a54af850b2"
      },
      "source": [
        "np.full((3,4), np.pi)"
      ],
      "execution_count": null,
      "outputs": [
        {
          "output_type": "execute_result",
          "data": {
            "text/plain": [
              "array([[3.14159265, 3.14159265, 3.14159265, 3.14159265],\n",
              "       [3.14159265, 3.14159265, 3.14159265, 3.14159265],\n",
              "       [3.14159265, 3.14159265, 3.14159265, 3.14159265]])"
            ]
          },
          "metadata": {
            "tags": []
          },
          "execution_count": 35
        }
      ]
    },
    {
      "cell_type": "markdown",
      "metadata": {
        "id": "r8iTA8ZSzjfN"
      },
      "source": [
        "eyes"
      ]
    },
    {
      "cell_type": "code",
      "metadata": {
        "id": "O4YX6s_czjpW",
        "colab": {
          "base_uri": "https://localhost:8080/"
        },
        "outputId": "355f66f8-b96b-4df3-96e8-bd2a1f122ddb"
      },
      "source": [
        "np.eye(5, 4)"
      ],
      "execution_count": null,
      "outputs": [
        {
          "output_type": "execute_result",
          "data": {
            "text/plain": [
              "array([[1., 0., 0., 0.],\n",
              "       [0., 1., 0., 0.],\n",
              "       [0., 0., 1., 0.],\n",
              "       [0., 0., 0., 1.],\n",
              "       [0., 0., 0., 0.]])"
            ]
          },
          "metadata": {
            "tags": []
          },
          "execution_count": 36
        }
      ]
    },
    {
      "cell_type": "markdown",
      "metadata": {
        "id": "vflmiUTbihl-"
      },
      "source": [
        "arange"
      ]
    },
    {
      "cell_type": "code",
      "metadata": {
        "id": "h7NegpJciiq-",
        "colab": {
          "base_uri": "https://localhost:8080/"
        },
        "outputId": "e5e47f98-9b6c-4758-df6f-09bf10913e3a"
      },
      "source": [
        "np.arange(1, 10)"
      ],
      "execution_count": null,
      "outputs": [
        {
          "output_type": "execute_result",
          "data": {
            "text/plain": [
              "array([1, 2, 3, 4, 5, 6, 7, 8, 9])"
            ]
          },
          "metadata": {
            "tags": []
          },
          "execution_count": 37
        }
      ]
    },
    {
      "cell_type": "markdown",
      "metadata": {
        "id": "0bUr53uPijBd"
      },
      "source": [
        "linspace"
      ]
    },
    {
      "cell_type": "code",
      "metadata": {
        "id": "naRJE9urqdn1",
        "colab": {
          "base_uri": "https://localhost:8080/"
        },
        "outputId": "03c43101-ece7-4486-8382-ec7e7db9ae0b"
      },
      "source": [
        "np.linspace(0, 100, 5)"
      ],
      "execution_count": null,
      "outputs": [
        {
          "output_type": "execute_result",
          "data": {
            "text/plain": [
              "array([  0.,  25.,  50.,  75., 100.])"
            ]
          },
          "metadata": {
            "tags": []
          },
          "execution_count": 38
        }
      ]
    },
    {
      "cell_type": "markdown",
      "metadata": {
        "id": "oI0onoDyik6X"
      },
      "source": [
        "diag"
      ]
    },
    {
      "cell_type": "code",
      "metadata": {
        "id": "51lkXQRGqezu",
        "colab": {
          "base_uri": "https://localhost:8080/"
        },
        "outputId": "509641a3-242c-4c53-e048-d0ab0caa28e2"
      },
      "source": [
        "np.diag([1,3,4,6,7,8])"
      ],
      "execution_count": null,
      "outputs": [
        {
          "output_type": "execute_result",
          "data": {
            "text/plain": [
              "array([[1, 0, 0, 0, 0, 0],\n",
              "       [0, 3, 0, 0, 0, 0],\n",
              "       [0, 0, 4, 0, 0, 0],\n",
              "       [0, 0, 0, 6, 0, 0],\n",
              "       [0, 0, 0, 0, 7, 0],\n",
              "       [0, 0, 0, 0, 0, 8]])"
            ]
          },
          "metadata": {
            "tags": []
          },
          "execution_count": 39
        }
      ]
    },
    {
      "cell_type": "markdown",
      "metadata": {
        "id": "S_Iatmf3ehJ1"
      },
      "source": [
        "random"
      ]
    },
    {
      "cell_type": "code",
      "metadata": {
        "id": "6h7SPYPMei4g",
        "colab": {
          "base_uri": "https://localhost:8080/"
        },
        "outputId": "0258284f-7452-46a9-ee69-083cda8a5853"
      },
      "source": [
        "np.random.random([4,3])"
      ],
      "execution_count": null,
      "outputs": [
        {
          "output_type": "execute_result",
          "data": {
            "text/plain": [
              "array([[0.3633302 , 0.96863149, 0.63704641],\n",
              "       [0.33937155, 0.96216899, 0.14539585],\n",
              "       [0.66542509, 0.86946027, 0.99189192],\n",
              "       [0.182281  , 0.10022973, 0.67239627]])"
            ]
          },
          "metadata": {
            "tags": []
          },
          "execution_count": 40
        }
      ]
    },
    {
      "cell_type": "markdown",
      "metadata": {
        "id": "iW5TFNaTejKE"
      },
      "source": [
        "randint"
      ]
    },
    {
      "cell_type": "code",
      "metadata": {
        "id": "0OoUezyLen0F",
        "colab": {
          "base_uri": "https://localhost:8080/"
        },
        "outputId": "3c680a07-fa97-4ca3-f865-f24686951049"
      },
      "source": [
        "np.random.randint(4, 9, [3,4])"
      ],
      "execution_count": null,
      "outputs": [
        {
          "output_type": "execute_result",
          "data": {
            "text/plain": [
              "array([[8, 7, 7, 6],\n",
              "       [5, 7, 7, 6],\n",
              "       [8, 8, 7, 8]])"
            ]
          },
          "metadata": {
            "tags": []
          },
          "execution_count": 41
        }
      ]
    },
    {
      "cell_type": "markdown",
      "metadata": {
        "id": "SEnG59S9fWZ3"
      },
      "source": [
        "# Indexing"
      ]
    },
    {
      "cell_type": "code",
      "metadata": {
        "id": "eHV1CZQdP9Pf"
      },
      "source": [
        "arr6 = np.random.randint(0, 100, [6, 7])"
      ],
      "execution_count": null,
      "outputs": []
    },
    {
      "cell_type": "code",
      "metadata": {
        "colab": {
          "base_uri": "https://localhost:8080/"
        },
        "id": "jA17NiAqQJIp",
        "outputId": "25ef028f-c53a-4ff6-f35e-276b9dcd5efa"
      },
      "source": [
        "arr6"
      ],
      "execution_count": null,
      "outputs": [
        {
          "output_type": "execute_result",
          "data": {
            "text/plain": [
              "array([[ 4, 34, 28, 74, 62,  8,  0],\n",
              "       [20, 92, 63, 56, 65, 29, 81],\n",
              "       [60, 56, 92, 24, 37, 32, 92],\n",
              "       [54, 48, 37, 65, 94, 21, 84],\n",
              "       [82, 37,  6, 49, 86, 17, 70],\n",
              "       [99, 37, 16, 16, 41, 13, 70]])"
            ]
          },
          "metadata": {
            "tags": []
          },
          "execution_count": 43
        }
      ]
    },
    {
      "cell_type": "markdown",
      "metadata": {
        "id": "pk49w45Pw5hK"
      },
      "source": [
        "Indices"
      ]
    },
    {
      "cell_type": "code",
      "metadata": {
        "id": "dcn7oS7AxJxf",
        "colab": {
          "base_uri": "https://localhost:8080/"
        },
        "outputId": "e06a7705-3f9b-43b6-be54-630b7124f57f"
      },
      "source": [
        "arr6[0,0]"
      ],
      "execution_count": null,
      "outputs": [
        {
          "output_type": "execute_result",
          "data": {
            "text/plain": [
              "4"
            ]
          },
          "metadata": {
            "tags": []
          },
          "execution_count": 44
        }
      ]
    },
    {
      "cell_type": "code",
      "metadata": {
        "colab": {
          "base_uri": "https://localhost:8080/"
        },
        "id": "7MSu31AKQcm5",
        "outputId": "d0b30652-759d-4214-9405-8d64ec991b89"
      },
      "source": [
        "arr6[3, :]"
      ],
      "execution_count": null,
      "outputs": [
        {
          "output_type": "execute_result",
          "data": {
            "text/plain": [
              "array([54, 48, 37, 65, 94, 21, 84])"
            ]
          },
          "metadata": {
            "tags": []
          },
          "execution_count": 45
        }
      ]
    },
    {
      "cell_type": "code",
      "metadata": {
        "colab": {
          "base_uri": "https://localhost:8080/"
        },
        "id": "_EfiuxR6Ql_W",
        "outputId": "93793dda-134f-4d27-8915-7f32b082207a"
      },
      "source": [
        "arr6[3, ::2]"
      ],
      "execution_count": null,
      "outputs": [
        {
          "output_type": "execute_result",
          "data": {
            "text/plain": [
              "array([54, 37, 94, 84])"
            ]
          },
          "metadata": {
            "tags": []
          },
          "execution_count": 46
        }
      ]
    },
    {
      "cell_type": "code",
      "metadata": {
        "colab": {
          "base_uri": "https://localhost:8080/"
        },
        "id": "YAQaqqmeQ-Tz",
        "outputId": "6b6451c8-92bf-4e23-957f-6eaaf8c1cdda"
      },
      "source": [
        "arr6[:, 4]"
      ],
      "execution_count": null,
      "outputs": [
        {
          "output_type": "execute_result",
          "data": {
            "text/plain": [
              "array([62, 65, 37, 94, 86, 41])"
            ]
          },
          "metadata": {
            "tags": []
          },
          "execution_count": 47
        }
      ]
    },
    {
      "cell_type": "code",
      "metadata": {
        "colab": {
          "base_uri": "https://localhost:8080/"
        },
        "id": "kafgC6gsRDgv",
        "outputId": "93e1f40d-847b-46b8-8543-f6f551c8f887"
      },
      "source": [
        "arr6[2::-1, 4]"
      ],
      "execution_count": null,
      "outputs": [
        {
          "output_type": "execute_result",
          "data": {
            "text/plain": [
              "array([37, 65, 62])"
            ]
          },
          "metadata": {
            "tags": []
          },
          "execution_count": 48
        }
      ]
    },
    {
      "cell_type": "code",
      "metadata": {
        "colab": {
          "base_uri": "https://localhost:8080/"
        },
        "id": "f5gT5W1sRt2Z",
        "outputId": "d3ea8eea-0527-4f59-aaf4-fd09fc41e077"
      },
      "source": [
        "arr6"
      ],
      "execution_count": null,
      "outputs": [
        {
          "output_type": "execute_result",
          "data": {
            "text/plain": [
              "array([[ 4, 34, 28, 74, 62,  8,  0],\n",
              "       [20, 92, 63, 56, 65, 29, 81],\n",
              "       [60, 56, 92, 24, 37, 32, 92],\n",
              "       [54, 48, 37, 65, 94, 21, 84],\n",
              "       [82, 37,  6, 49, 86, 17, 70],\n",
              "       [99, 37, 16, 16, 41, 13, 70]])"
            ]
          },
          "metadata": {
            "tags": []
          },
          "execution_count": 49
        }
      ]
    },
    {
      "cell_type": "code",
      "metadata": {
        "colab": {
          "base_uri": "https://localhost:8080/"
        },
        "id": "rExUXKoiRRmk",
        "outputId": "29545ddd-07ce-40a7-d120-73fd9791e40c"
      },
      "source": [
        "arr6[2:4, 2:4]"
      ],
      "execution_count": null,
      "outputs": [
        {
          "output_type": "execute_result",
          "data": {
            "text/plain": [
              "array([[92, 24],\n",
              "       [37, 65]])"
            ]
          },
          "metadata": {
            "tags": []
          },
          "execution_count": 50
        }
      ]
    },
    {
      "cell_type": "markdown",
      "metadata": {
        "id": "5H89c4A1xhqS"
      },
      "source": [
        "Listas de indices"
      ]
    },
    {
      "cell_type": "code",
      "metadata": {
        "colab": {
          "base_uri": "https://localhost:8080/"
        },
        "id": "JSBNfBuAS4kq",
        "outputId": "c80d3969-ce36-4f84-a2ca-13a3e9c6a67d"
      },
      "source": [
        "arr6"
      ],
      "execution_count": null,
      "outputs": [
        {
          "output_type": "execute_result",
          "data": {
            "text/plain": [
              "array([[ 4, 34, 28, 74, 62,  8,  0],\n",
              "       [20, 92, 63, 56, 65, 29, 81],\n",
              "       [60, 56, 92, 24, 37, 32, 92],\n",
              "       [54, 48, 37, 65, 94, 21, 84],\n",
              "       [82, 37,  6, 49, 86, 17, 70],\n",
              "       [99, 37, 16, 16, 41, 13, 70]])"
            ]
          },
          "metadata": {
            "tags": []
          },
          "execution_count": 51
        }
      ]
    },
    {
      "cell_type": "code",
      "metadata": {
        "id": "oX3TSQ9lxmYp",
        "colab": {
          "base_uri": "https://localhost:8080/"
        },
        "outputId": "f378b262-e1c3-4844-c78e-8334af638b06"
      },
      "source": [
        "arr6[[0,-1], :]"
      ],
      "execution_count": null,
      "outputs": [
        {
          "output_type": "execute_result",
          "data": {
            "text/plain": [
              "array([[ 4, 34, 28, 74, 62,  8,  0],\n",
              "       [99, 37, 16, 16, 41, 13, 70]])"
            ]
          },
          "metadata": {
            "tags": []
          },
          "execution_count": 52
        }
      ]
    },
    {
      "cell_type": "markdown",
      "metadata": {
        "id": "KJohxlsoxmh6"
      },
      "source": [
        "Listas de bools"
      ]
    },
    {
      "cell_type": "code",
      "metadata": {
        "id": "IwxEmBkjxtb5",
        "colab": {
          "base_uri": "https://localhost:8080/"
        },
        "outputId": "eebe64d3-cf17-4325-d853-a0fcc9211d12"
      },
      "source": [
        "arr6[:, [True, True, True, True, True, False, False]]"
      ],
      "execution_count": null,
      "outputs": [
        {
          "output_type": "execute_result",
          "data": {
            "text/plain": [
              "array([[ 4, 34, 28, 74, 62],\n",
              "       [20, 92, 63, 56, 65],\n",
              "       [60, 56, 92, 24, 37],\n",
              "       [54, 48, 37, 65, 94],\n",
              "       [82, 37,  6, 49, 86],\n",
              "       [99, 37, 16, 16, 41]])"
            ]
          },
          "metadata": {
            "tags": []
          },
          "execution_count": 53
        }
      ]
    },
    {
      "cell_type": "code",
      "metadata": {
        "colab": {
          "base_uri": "https://localhost:8080/"
        },
        "id": "XcohFnx0UzBP",
        "outputId": "7224aa97-c1f1-4c97-f6cf-53fcc1ab3afb"
      },
      "source": [
        "arr6"
      ],
      "execution_count": null,
      "outputs": [
        {
          "output_type": "execute_result",
          "data": {
            "text/plain": [
              "array([[ 4, 34, 28, 74, 62,  8,  0],\n",
              "       [20, 92, 63, 56, 65, 29, 81],\n",
              "       [60, 56, 92, 24, 37, 32, 92],\n",
              "       [54, 48, 37, 65, 94, 21, 84],\n",
              "       [82, 37,  6, 49, 86, 17, 70],\n",
              "       [99, 37, 16, 16, 41, 13, 70]])"
            ]
          },
          "metadata": {
            "tags": []
          },
          "execution_count": 54
        }
      ]
    },
    {
      "cell_type": "code",
      "metadata": {
        "id": "WiaACcczUsP2"
      },
      "source": [
        "arr6[:2, :2] = np.array([[1,1], [1,1]])"
      ],
      "execution_count": null,
      "outputs": []
    },
    {
      "cell_type": "code",
      "metadata": {
        "colab": {
          "base_uri": "https://localhost:8080/"
        },
        "id": "0sYC4UCsU9G2",
        "outputId": "4a453a03-fe5b-4421-989c-51fb72414044"
      },
      "source": [
        "arr6"
      ],
      "execution_count": null,
      "outputs": [
        {
          "output_type": "execute_result",
          "data": {
            "text/plain": [
              "array([[ 1,  1, 28, 97, 99, 13,  4],\n",
              "       [ 1,  1, 27, 32, 64, 95, 68],\n",
              "       [37, 18,  6, 89, 72, 10, 50],\n",
              "       [32, 10, 68, 36, 32, 81, 51],\n",
              "       [39, 45,  9, 65, 64,  2, 59],\n",
              "       [50,  2,  5, 58, 11, 41, 77]])"
            ]
          },
          "metadata": {
            "tags": []
          },
          "execution_count": 107
        }
      ]
    },
    {
      "cell_type": "markdown",
      "metadata": {
        "id": "zBdplDQkxtt2"
      },
      "source": [
        "# Concatenación"
      ]
    },
    {
      "cell_type": "code",
      "metadata": {
        "id": "ypi9xNQYVnAG"
      },
      "source": [
        "arr7 = np.random.randint(0,100, (4,5))"
      ],
      "execution_count": null,
      "outputs": []
    },
    {
      "cell_type": "code",
      "metadata": {
        "colab": {
          "base_uri": "https://localhost:8080/"
        },
        "id": "MRCc533AV1A8",
        "outputId": "dc11b398-eb51-42a9-fbf8-09ea6457c0fe"
      },
      "source": [
        "arr7"
      ],
      "execution_count": null,
      "outputs": [
        {
          "output_type": "execute_result",
          "data": {
            "text/plain": [
              "array([[ 1, 88, 82, 38, 44],\n",
              "       [49, 34, 22, 41, 23],\n",
              "       [14, 96, 51, 93, 72],\n",
              "       [ 6, 31, 35, 94, 86]])"
            ]
          },
          "metadata": {
            "tags": []
          },
          "execution_count": 57
        }
      ]
    },
    {
      "cell_type": "markdown",
      "metadata": {
        "id": "L0HAqRq0yaB3"
      },
      "source": [
        "filas"
      ]
    },
    {
      "cell_type": "code",
      "metadata": {
        "id": "mZ944IQ5yckp",
        "colab": {
          "base_uri": "https://localhost:8080/"
        },
        "outputId": "672bd1f5-cdb4-48f0-b357-513812c11bcd"
      },
      "source": [
        "np.vstack([\n",
        "    np.ones((2,5)),\n",
        "    arr7,\n",
        "])"
      ],
      "execution_count": null,
      "outputs": [
        {
          "output_type": "execute_result",
          "data": {
            "text/plain": [
              "array([[ 1.,  1.,  1.,  1.,  1.],\n",
              "       [ 1.,  1.,  1.,  1.,  1.],\n",
              "       [ 1., 88., 82., 38., 44.],\n",
              "       [49., 34., 22., 41., 23.],\n",
              "       [14., 96., 51., 93., 72.],\n",
              "       [ 6., 31., 35., 94., 86.]])"
            ]
          },
          "metadata": {
            "tags": []
          },
          "execution_count": 58
        }
      ]
    },
    {
      "cell_type": "markdown",
      "metadata": {
        "id": "LQdL2nY-ycub"
      },
      "source": [
        "columnas"
      ]
    },
    {
      "cell_type": "code",
      "metadata": {
        "id": "Xo36OUcpygJN",
        "colab": {
          "base_uri": "https://localhost:8080/"
        },
        "outputId": "09e3f42c-ab8f-4eec-9999-8b0742aba9b8"
      },
      "source": [
        "arr7"
      ],
      "execution_count": null,
      "outputs": [
        {
          "output_type": "execute_result",
          "data": {
            "text/plain": [
              "array([[ 1, 88, 82, 38, 44],\n",
              "       [49, 34, 22, 41, 23],\n",
              "       [14, 96, 51, 93, 72],\n",
              "       [ 6, 31, 35, 94, 86]])"
            ]
          },
          "metadata": {
            "tags": []
          },
          "execution_count": 59
        }
      ]
    },
    {
      "cell_type": "code",
      "metadata": {
        "colab": {
          "base_uri": "https://localhost:8080/"
        },
        "id": "V-RBhdJaWo50",
        "outputId": "4753c655-f6a8-4c29-cbb3-72adeb0e40f1"
      },
      "source": [
        "np.hstack([\n",
        "    np.full((4, 2), 10),\n",
        "    arr7\n",
        "])"
      ],
      "execution_count": null,
      "outputs": [
        {
          "output_type": "execute_result",
          "data": {
            "text/plain": [
              "array([[10, 10,  1, 88, 82, 38, 44],\n",
              "       [10, 10, 49, 34, 22, 41, 23],\n",
              "       [10, 10, 14, 96, 51, 93, 72],\n",
              "       [10, 10,  6, 31, 35, 94, 86]])"
            ]
          },
          "metadata": {
            "tags": []
          },
          "execution_count": 60
        }
      ]
    },
    {
      "cell_type": "markdown",
      "metadata": {
        "id": "W7-umaGN1J9g"
      },
      "source": [
        "# Comparaciones"
      ]
    },
    {
      "cell_type": "markdown",
      "metadata": {
        "id": "waKW0ZLx1Olm"
      },
      "source": [
        "Operadores de comparación"
      ]
    },
    {
      "cell_type": "code",
      "metadata": {
        "id": "jW6Pzgnd1UK1",
        "colab": {
          "base_uri": "https://localhost:8080/"
        },
        "outputId": "1f67e5a9-b21b-4b93-91a2-51142bf7046d"
      },
      "source": [
        "arr7"
      ],
      "execution_count": null,
      "outputs": [
        {
          "output_type": "execute_result",
          "data": {
            "text/plain": [
              "array([[ 1, 88, 82, 38, 44],\n",
              "       [49, 34, 22, 41, 23],\n",
              "       [14, 96, 51, 93, 72],\n",
              "       [ 6, 31, 35, 94, 86]])"
            ]
          },
          "metadata": {
            "tags": []
          },
          "execution_count": 61
        }
      ]
    },
    {
      "cell_type": "code",
      "metadata": {
        "colab": {
          "base_uri": "https://localhost:8080/"
        },
        "id": "_Et4RP56Xj79",
        "outputId": "2cd93dfa-fd0c-4447-b556-bbec8b10a4eb"
      },
      "source": [
        "arr7 < 50"
      ],
      "execution_count": null,
      "outputs": [
        {
          "output_type": "execute_result",
          "data": {
            "text/plain": [
              "array([[ True, False, False,  True,  True],\n",
              "       [ True,  True,  True,  True,  True],\n",
              "       [ True, False, False, False, False],\n",
              "       [ True,  True,  True, False, False]])"
            ]
          },
          "metadata": {
            "tags": []
          },
          "execution_count": 62
        }
      ]
    },
    {
      "cell_type": "code",
      "metadata": {
        "colab": {
          "base_uri": "https://localhost:8080/"
        },
        "id": "LGp20ZHBXx46",
        "outputId": "3ad4b9ae-800e-438b-b494-094bb941c763"
      },
      "source": [
        "arr7[:, arr7[0,:] > 40]"
      ],
      "execution_count": null,
      "outputs": [
        {
          "output_type": "execute_result",
          "data": {
            "text/plain": [
              "array([[88, 82, 44],\n",
              "       [34, 22, 23],\n",
              "       [96, 51, 72],\n",
              "       [31, 35, 86]])"
            ]
          },
          "metadata": {
            "tags": []
          },
          "execution_count": 63
        }
      ]
    },
    {
      "cell_type": "code",
      "metadata": {
        "colab": {
          "base_uri": "https://localhost:8080/"
        },
        "id": "1y0UBIGcYING",
        "outputId": "8ccfdfac-0969-471c-a835-63b6cde6ab7d"
      },
      "source": [
        "arr7[:, 0] > 60"
      ],
      "execution_count": null,
      "outputs": [
        {
          "output_type": "execute_result",
          "data": {
            "text/plain": [
              "array([False, False, False, False])"
            ]
          },
          "metadata": {
            "tags": []
          },
          "execution_count": 64
        }
      ]
    },
    {
      "cell_type": "code",
      "metadata": {
        "id": "Y3QHDn5y1WPC"
      },
      "source": [
        "arr8 = np.array([['hola', 2], ['chao', 4]])"
      ],
      "execution_count": null,
      "outputs": []
    },
    {
      "cell_type": "code",
      "metadata": {
        "colab": {
          "base_uri": "https://localhost:8080/"
        },
        "id": "sW7HoMPxZqZK",
        "outputId": "8e38f530-7b98-4173-be3e-3cd2b4501bed"
      },
      "source": [
        "arr8"
      ],
      "execution_count": null,
      "outputs": [
        {
          "output_type": "execute_result",
          "data": {
            "text/plain": [
              "array([['hola', '2'],\n",
              "       ['chao', '4']], dtype='<U4')"
            ]
          },
          "metadata": {
            "tags": []
          },
          "execution_count": 66
        }
      ]
    },
    {
      "cell_type": "code",
      "metadata": {
        "colab": {
          "base_uri": "https://localhost:8080/"
        },
        "id": "4GWzRV3zZq3j",
        "outputId": "83b64fe9-d370-4d24-e129-ca835d5780fa"
      },
      "source": [
        "arr8[arr8[:, 0] == 'chao']"
      ],
      "execution_count": null,
      "outputs": [
        {
          "output_type": "execute_result",
          "data": {
            "text/plain": [
              "array([['chao', '4']], dtype='<U4')"
            ]
          },
          "metadata": {
            "tags": []
          },
          "execution_count": 67
        }
      ]
    },
    {
      "cell_type": "markdown",
      "metadata": {
        "id": "_GJ2gQkM9R6J"
      },
      "source": [
        "# Operaciones aritméticas"
      ]
    },
    {
      "cell_type": "code",
      "metadata": {
        "id": "i06JJiMkdbtL"
      },
      "source": [
        "ar1 = np.random.randint(0,100,(3,4))\n",
        "ar2 = np.random.randint(0,100,(3,4))"
      ],
      "execution_count": null,
      "outputs": []
    },
    {
      "cell_type": "code",
      "metadata": {
        "colab": {
          "base_uri": "https://localhost:8080/"
        },
        "id": "15txSl8LdklR",
        "outputId": "58b1e3b4-79f9-4006-9b0c-c7c89abf6d1a"
      },
      "source": [
        "print(ar1)\n",
        "ar2"
      ],
      "execution_count": null,
      "outputs": [
        {
          "output_type": "stream",
          "text": [
            "[[13 53 74 49]\n",
            " [65 13 59 79]\n",
            " [23 67 49 15]]\n"
          ],
          "name": "stdout"
        },
        {
          "output_type": "execute_result",
          "data": {
            "text/plain": [
              "array([[84, 73, 82, 85],\n",
              "       [51, 41, 13, 92],\n",
              "       [87, 94, 75, 34]])"
            ]
          },
          "metadata": {
            "tags": []
          },
          "execution_count": 70
        }
      ]
    },
    {
      "cell_type": "markdown",
      "metadata": {
        "id": "4C5541WZ9Xe3"
      },
      "source": [
        "suma"
      ]
    },
    {
      "cell_type": "code",
      "metadata": {
        "id": "PIVcXy3S9hB4",
        "colab": {
          "base_uri": "https://localhost:8080/"
        },
        "outputId": "67739bf9-0a08-48d9-a590-b8c45750e3f5"
      },
      "source": [
        "ar1 + ar2"
      ],
      "execution_count": null,
      "outputs": [
        {
          "output_type": "execute_result",
          "data": {
            "text/plain": [
              "array([[ 97, 126, 156, 134],\n",
              "       [116,  54,  72, 171],\n",
              "       [110, 161, 124,  49]])"
            ]
          },
          "metadata": {
            "tags": []
          },
          "execution_count": 71
        }
      ]
    },
    {
      "cell_type": "markdown",
      "metadata": {
        "id": "KMJPOg3m9hf-"
      },
      "source": [
        "resta"
      ]
    },
    {
      "cell_type": "code",
      "metadata": {
        "id": "yie5bZy99k0K",
        "colab": {
          "base_uri": "https://localhost:8080/"
        },
        "outputId": "a5a2dcdf-8cee-439e-9ab8-3d8840b2eb1b"
      },
      "source": [
        "ar1 - ar2"
      ],
      "execution_count": null,
      "outputs": [
        {
          "output_type": "execute_result",
          "data": {
            "text/plain": [
              "array([[-71, -20,  -8, -36],\n",
              "       [ 14, -28,  46, -13],\n",
              "       [-64, -27, -26, -19]])"
            ]
          },
          "metadata": {
            "tags": []
          },
          "execution_count": 72
        }
      ]
    },
    {
      "cell_type": "markdown",
      "metadata": {
        "id": "Lf8ACinD9j7H"
      },
      "source": [
        "multiplicación"
      ]
    },
    {
      "cell_type": "code",
      "metadata": {
        "id": "6Zd45EoC9qFI",
        "colab": {
          "base_uri": "https://localhost:8080/"
        },
        "outputId": "a1bcb02a-1e79-41e9-f580-c68cdb0a23e6"
      },
      "source": [
        "ar1 * ar2"
      ],
      "execution_count": null,
      "outputs": [
        {
          "output_type": "execute_result",
          "data": {
            "text/plain": [
              "array([[1092, 3869, 6068, 4165],\n",
              "       [3315,  533,  767, 7268],\n",
              "       [2001, 6298, 3675,  510]])"
            ]
          },
          "metadata": {
            "tags": []
          },
          "execution_count": 73
        }
      ]
    },
    {
      "cell_type": "markdown",
      "metadata": {
        "id": "OjcIyhbZ9qXR"
      },
      "source": [
        "producto punto"
      ]
    },
    {
      "cell_type": "code",
      "metadata": {
        "colab": {
          "base_uri": "https://localhost:8080/"
        },
        "id": "oD6xB7csed3-",
        "outputId": "c759961f-5432-4fa3-97f2-ac1426fc2b1b"
      },
      "source": [
        "ar1"
      ],
      "execution_count": null,
      "outputs": [
        {
          "output_type": "execute_result",
          "data": {
            "text/plain": [
              "array([[13, 53, 74, 49],\n",
              "       [65, 13, 59, 79],\n",
              "       [23, 67, 49, 15]])"
            ]
          },
          "metadata": {
            "tags": []
          },
          "execution_count": 74
        }
      ]
    },
    {
      "cell_type": "code",
      "metadata": {
        "colab": {
          "base_uri": "https://localhost:8080/"
        },
        "id": "drDu7Jyieemk",
        "outputId": "7f25dbd7-07d1-4439-8377-ed9e0964b0c7"
      },
      "source": [
        "ar2"
      ],
      "execution_count": null,
      "outputs": [
        {
          "output_type": "execute_result",
          "data": {
            "text/plain": [
              "array([[84, 73, 82, 85],\n",
              "       [51, 41, 13, 92],\n",
              "       [87, 94, 75, 34]])"
            ]
          },
          "metadata": {
            "tags": []
          },
          "execution_count": 75
        }
      ]
    },
    {
      "cell_type": "code",
      "metadata": {
        "colab": {
          "base_uri": "https://localhost:8080/"
        },
        "id": "4NAz8Bqge_jf",
        "outputId": "6f6ff463-f102-430e-f5f0-ebcb9cc7dc63"
      },
      "source": [
        "ar2.reshape((4,3))"
      ],
      "execution_count": null,
      "outputs": [
        {
          "output_type": "execute_result",
          "data": {
            "text/plain": [
              "array([[84, 73, 82],\n",
              "       [85, 51, 41],\n",
              "       [13, 92, 87],\n",
              "       [94, 75, 34]])"
            ]
          },
          "metadata": {
            "tags": []
          },
          "execution_count": 76
        }
      ]
    },
    {
      "cell_type": "code",
      "metadata": {
        "id": "AP4A_USc9swm",
        "colab": {
          "base_uri": "https://localhost:8080/"
        },
        "outputId": "9481a85a-d91e-4388-dcc2-5c03116ecd1b"
      },
      "source": [
        "ar1 @ ar2.reshape((4,3)) # != ar2 @ ar1"
      ],
      "execution_count": null,
      "outputs": [
        {
          "output_type": "execute_result",
          "data": {
            "text/plain": [
              "array([[11165, 14135, 11343],\n",
              "       [14758, 16761, 13682],\n",
              "       [ 9674, 10729,  9406]])"
            ]
          },
          "metadata": {
            "tags": []
          },
          "execution_count": 77
        }
      ]
    },
    {
      "cell_type": "markdown",
      "metadata": {
        "id": "H-qd0cH_9tGZ"
      },
      "source": [
        "división"
      ]
    },
    {
      "cell_type": "code",
      "metadata": {
        "id": "_ZXTr5Hg9vV6",
        "colab": {
          "base_uri": "https://localhost:8080/"
        },
        "outputId": "446d377b-1567-4bcc-c75b-9df07c49be8f"
      },
      "source": [
        "ar1 / ar2"
      ],
      "execution_count": null,
      "outputs": [
        {
          "output_type": "execute_result",
          "data": {
            "text/plain": [
              "array([[0.1547619 , 0.7260274 , 0.90243902, 0.57647059],\n",
              "       [1.2745098 , 0.31707317, 4.53846154, 0.85869565],\n",
              "       [0.26436782, 0.71276596, 0.65333333, 0.44117647]])"
            ]
          },
          "metadata": {
            "tags": []
          },
          "execution_count": 78
        }
      ]
    },
    {
      "cell_type": "markdown",
      "metadata": {
        "id": "dGLI7SU49vhO"
      },
      "source": [
        "exponente"
      ]
    },
    {
      "cell_type": "code",
      "metadata": {
        "id": "kyFfHCV99y5U",
        "colab": {
          "base_uri": "https://localhost:8080/"
        },
        "outputId": "2eb8cd2c-f52a-4592-9778-7179edbe552e"
      },
      "source": [
        "ar1 ** ar2"
      ],
      "execution_count": null,
      "outputs": [
        {
          "output_type": "execute_result",
          "data": {
            "text/plain": [
              "array([[ 4232974902558095569, -5116654396780829675,                    0,\n",
              "         6880905010996113905],\n",
              "       [-1244751537030054719,   660746719859712045, -7772847348627950677,\n",
              "        -1245784131012530879],\n",
              "       [  837559365727783143,  7442686547985349689, -8663673126898889455,\n",
              "         5676732407545605857]])"
            ]
          },
          "metadata": {
            "tags": []
          },
          "execution_count": 79
        }
      ]
    },
    {
      "cell_type": "markdown",
      "metadata": {
        "id": "pokiDkDT-Kp0"
      },
      "source": [
        "# Funciones útiles"
      ]
    },
    {
      "cell_type": "markdown",
      "metadata": {
        "id": "v63y7ylW9zf9"
      },
      "source": [
        "max"
      ]
    },
    {
      "cell_type": "code",
      "metadata": {
        "id": "SBqIUztf-IsR",
        "colab": {
          "base_uri": "https://localhost:8080/"
        },
        "outputId": "be79a8d1-23a6-48ba-b661-1857414bfbe9"
      },
      "source": [
        "arr7"
      ],
      "execution_count": null,
      "outputs": [
        {
          "output_type": "execute_result",
          "data": {
            "text/plain": [
              "array([[ 1, 88, 82, 38, 44],\n",
              "       [49, 34, 22, 41, 23],\n",
              "       [14, 96, 51, 93, 72],\n",
              "       [ 6, 31, 35, 94, 86]])"
            ]
          },
          "metadata": {
            "tags": []
          },
          "execution_count": 80
        }
      ]
    },
    {
      "cell_type": "code",
      "metadata": {
        "colab": {
          "base_uri": "https://localhost:8080/"
        },
        "id": "AtSxsgN-feCd",
        "outputId": "983a8e58-14c0-40b7-bf28-00df780b8def"
      },
      "source": [
        "arr7.max(axis=1)"
      ],
      "execution_count": null,
      "outputs": [
        {
          "output_type": "execute_result",
          "data": {
            "text/plain": [
              "array([88, 49, 96, 94])"
            ]
          },
          "metadata": {
            "tags": []
          },
          "execution_count": 81
        }
      ]
    },
    {
      "cell_type": "markdown",
      "metadata": {
        "id": "iAiMwMHe-XOT"
      },
      "source": [
        "min"
      ]
    },
    {
      "cell_type": "code",
      "metadata": {
        "id": "mOyaFujD-YG1"
      },
      "source": [
        ""
      ],
      "execution_count": null,
      "outputs": []
    },
    {
      "cell_type": "markdown",
      "metadata": {
        "id": "KlSDBLiD-YjQ"
      },
      "source": [
        "mean"
      ]
    },
    {
      "cell_type": "code",
      "metadata": {
        "id": "w9An50g9BVvK",
        "colab": {
          "base_uri": "https://localhost:8080/"
        },
        "outputId": "20c156c1-7fbd-4172-da63-06091e84fcf5"
      },
      "source": [
        "arr7.mean(axis=1)"
      ],
      "execution_count": null,
      "outputs": [
        {
          "output_type": "execute_result",
          "data": {
            "text/plain": [
              "array([50.6, 33.8, 65.2, 50.4])"
            ]
          },
          "metadata": {
            "tags": []
          },
          "execution_count": 82
        }
      ]
    },
    {
      "cell_type": "markdown",
      "metadata": {
        "id": "XwW5ndQ5BWKG"
      },
      "source": [
        "median"
      ]
    },
    {
      "cell_type": "code",
      "metadata": {
        "id": "9pCiVODz-ba2",
        "colab": {
          "base_uri": "https://localhost:8080/"
        },
        "outputId": "969096df-d0ec-4e8b-f920-a44a154efbfa"
      },
      "source": [
        "np.median(arr7, axis=1)"
      ],
      "execution_count": null,
      "outputs": [
        {
          "output_type": "execute_result",
          "data": {
            "text/plain": [
              "array([44., 34., 72., 35.])"
            ]
          },
          "metadata": {
            "tags": []
          },
          "execution_count": 83
        }
      ]
    },
    {
      "cell_type": "markdown",
      "metadata": {
        "id": "PDnlXy2r-bzn"
      },
      "source": [
        "argmin"
      ]
    },
    {
      "cell_type": "code",
      "metadata": {
        "id": "ZBqiILQs-eNC",
        "colab": {
          "base_uri": "https://localhost:8080/"
        },
        "outputId": "fec17087-efb5-43c4-aa39-c6d45bf7614e"
      },
      "source": [
        "arr7.argmin(axis=0)"
      ],
      "execution_count": null,
      "outputs": [
        {
          "output_type": "execute_result",
          "data": {
            "text/plain": [
              "array([0, 3, 1, 0, 1])"
            ]
          },
          "metadata": {
            "tags": []
          },
          "execution_count": 84
        }
      ]
    },
    {
      "cell_type": "markdown",
      "metadata": {
        "id": "2CcA9Cph-ezT"
      },
      "source": [
        "argmax"
      ]
    },
    {
      "cell_type": "code",
      "metadata": {
        "id": "rywPcbxp-jf9"
      },
      "source": [
        ""
      ],
      "execution_count": null,
      "outputs": []
    },
    {
      "cell_type": "markdown",
      "metadata": {
        "id": "q8VdmGpO-ef3"
      },
      "source": [
        "sort"
      ]
    },
    {
      "cell_type": "code",
      "metadata": {
        "id": "xH4_35OA-oQ_"
      },
      "source": [
        "arr7.sort(axis=0)"
      ],
      "execution_count": null,
      "outputs": []
    },
    {
      "cell_type": "code",
      "metadata": {
        "colab": {
          "base_uri": "https://localhost:8080/"
        },
        "id": "RHUXRiobg2uL",
        "outputId": "f16d3c76-8156-4920-9f34-637f1d05941e"
      },
      "source": [
        "arr7"
      ],
      "execution_count": null,
      "outputs": [
        {
          "output_type": "execute_result",
          "data": {
            "text/plain": [
              "array([[ 1, 31, 22, 38, 23],\n",
              "       [ 6, 34, 35, 41, 44],\n",
              "       [14, 88, 51, 93, 72],\n",
              "       [49, 96, 82, 94, 86]])"
            ]
          },
          "metadata": {
            "tags": []
          },
          "execution_count": 86
        }
      ]
    },
    {
      "cell_type": "markdown",
      "metadata": {
        "id": "ZqL5waX5-ovm"
      },
      "source": [
        "trigonométricas"
      ]
    },
    {
      "cell_type": "code",
      "metadata": {
        "id": "mfVK5J0D_Fmo",
        "colab": {
          "base_uri": "https://localhost:8080/"
        },
        "outputId": "ab197b27-52db-49da-ae04-043713352f18"
      },
      "source": [
        "np.sin(arr7)\n",
        "# np.cos"
      ],
      "execution_count": null,
      "outputs": [
        {
          "output_type": "execute_result",
          "data": {
            "text/plain": [
              "array([[ 0.84147098, -0.40403765, -0.00885131,  0.29636858, -0.8462204 ],\n",
              "       [-0.2794155 ,  0.52908269, -0.42818267, -0.15862267,  0.01770193],\n",
              "       [ 0.99060736,  0.0353983 ,  0.67022918, -0.94828214,  0.25382336],\n",
              "       [-0.95375265,  0.98358775,  0.31322878, -0.24525199, -0.92345845]])"
            ]
          },
          "metadata": {
            "tags": []
          },
          "execution_count": 87
        }
      ]
    },
    {
      "cell_type": "markdown",
      "metadata": {
        "id": "C_FwwsAS_Fvv"
      },
      "source": [
        ""
      ]
    }
  ]
}