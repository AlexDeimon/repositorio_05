{
  "nbformat": 4,
  "nbformat_minor": 0,
  "metadata": {
    "colab": {
      "name": "Bosques Aleatorios - Predicción Temperatura.ipynb",
      "provenance": []
    },
    "kernelspec": {
      "name": "python3",
      "display_name": "Python 3"
    },
    "language_info": {
      "name": "python"
    }
  },
  "cells": [
    {
      "cell_type": "markdown",
      "metadata": {
        "id": "X3Fzvd0BfO1k"
      },
      "source": [
        "Visitar link: \n",
        "\n",
        "https://www.youtube.com/watch?v=33KWtdO8uoU&t=212s&ab_channel=AprendeIAconLigdiGonzalez\n",
        "\n",
        "https://www.aprendemachinelearning.com/random-forest-el-poder-del-ensamble/"
      ]
    },
    {
      "cell_type": "markdown",
      "metadata": {
        "id": "oZryPQl7yXUq"
      },
      "source": [
        "## Sistema de predicción de la temperatura"
      ]
    },
    {
      "cell_type": "markdown",
      "metadata": {
        "id": "bOxuDvtoyZDa"
      },
      "source": [
        "El siguiente código de Python se carga en los datos csv y muestra la estructura de los datos:"
      ]
    },
    {
      "cell_type": "code",
      "metadata": {
        "colab": {
          "base_uri": "https://localhost:8080/",
          "height": 204
        },
        "id": "mPaHUJgbyKmr",
        "outputId": "7bf34d35-19e3-4da6-ae54-d7c72e39a3b6"
      },
      "source": [
        "import pandas as pd\n",
        "dataset = pd.read_csv('temps.csv') \n",
        "dataset.head(5)\n",
        "#https://www.kaggle.com/ns0720/tempscsv"
      ],
      "execution_count": 1,
      "outputs": [
        {
          "output_type": "execute_result",
          "data": {
            "text/html": [
              "<div>\n",
              "<style scoped>\n",
              "    .dataframe tbody tr th:only-of-type {\n",
              "        vertical-align: middle;\n",
              "    }\n",
              "\n",
              "    .dataframe tbody tr th {\n",
              "        vertical-align: top;\n",
              "    }\n",
              "\n",
              "    .dataframe thead th {\n",
              "        text-align: right;\n",
              "    }\n",
              "</style>\n",
              "<table border=\"1\" class=\"dataframe\">\n",
              "  <thead>\n",
              "    <tr style=\"text-align: right;\">\n",
              "      <th></th>\n",
              "      <th>year</th>\n",
              "      <th>month</th>\n",
              "      <th>day</th>\n",
              "      <th>week</th>\n",
              "      <th>temp_2</th>\n",
              "      <th>temp_1</th>\n",
              "      <th>average</th>\n",
              "      <th>actual</th>\n",
              "      <th>friend</th>\n",
              "    </tr>\n",
              "  </thead>\n",
              "  <tbody>\n",
              "    <tr>\n",
              "      <th>0</th>\n",
              "      <td>2019</td>\n",
              "      <td>1</td>\n",
              "      <td>1</td>\n",
              "      <td>Fri</td>\n",
              "      <td>45</td>\n",
              "      <td>45</td>\n",
              "      <td>45.6</td>\n",
              "      <td>45</td>\n",
              "      <td>29</td>\n",
              "    </tr>\n",
              "    <tr>\n",
              "      <th>1</th>\n",
              "      <td>2019</td>\n",
              "      <td>1</td>\n",
              "      <td>2</td>\n",
              "      <td>Sat</td>\n",
              "      <td>44</td>\n",
              "      <td>45</td>\n",
              "      <td>45.7</td>\n",
              "      <td>44</td>\n",
              "      <td>61</td>\n",
              "    </tr>\n",
              "    <tr>\n",
              "      <th>2</th>\n",
              "      <td>2019</td>\n",
              "      <td>1</td>\n",
              "      <td>3</td>\n",
              "      <td>Sun</td>\n",
              "      <td>45</td>\n",
              "      <td>44</td>\n",
              "      <td>45.8</td>\n",
              "      <td>41</td>\n",
              "      <td>56</td>\n",
              "    </tr>\n",
              "    <tr>\n",
              "      <th>3</th>\n",
              "      <td>2019</td>\n",
              "      <td>1</td>\n",
              "      <td>4</td>\n",
              "      <td>Mon</td>\n",
              "      <td>44</td>\n",
              "      <td>41</td>\n",
              "      <td>45.9</td>\n",
              "      <td>40</td>\n",
              "      <td>53</td>\n",
              "    </tr>\n",
              "    <tr>\n",
              "      <th>4</th>\n",
              "      <td>2019</td>\n",
              "      <td>1</td>\n",
              "      <td>5</td>\n",
              "      <td>Tues</td>\n",
              "      <td>41</td>\n",
              "      <td>40</td>\n",
              "      <td>46.0</td>\n",
              "      <td>44</td>\n",
              "      <td>41</td>\n",
              "    </tr>\n",
              "  </tbody>\n",
              "</table>\n",
              "</div>"
            ],
            "text/plain": [
              "   year  month  day  week  temp_2  temp_1  average  actual  friend\n",
              "0  2019      1    1   Fri      45      45     45.6      45      29\n",
              "1  2019      1    2   Sat      44      45     45.7      44      61\n",
              "2  2019      1    3   Sun      45      44     45.8      41      56\n",
              "3  2019      1    4   Mon      44      41     45.9      40      53\n",
              "4  2019      1    5  Tues      41      40     46.0      44      41"
            ]
          },
          "metadata": {},
          "execution_count": 1
        }
      ]
    },
    {
      "cell_type": "code",
      "metadata": {
        "colab": {
          "base_uri": "https://localhost:8080/",
          "height": 297
        },
        "id": "SoR1PV1J1Ctx",
        "outputId": "319acade-90f6-4212-a135-b9cddc954224"
      },
      "source": [
        "dataset.describe()"
      ],
      "execution_count": 2,
      "outputs": [
        {
          "output_type": "execute_result",
          "data": {
            "text/html": [
              "<div>\n",
              "<style scoped>\n",
              "    .dataframe tbody tr th:only-of-type {\n",
              "        vertical-align: middle;\n",
              "    }\n",
              "\n",
              "    .dataframe tbody tr th {\n",
              "        vertical-align: top;\n",
              "    }\n",
              "\n",
              "    .dataframe thead th {\n",
              "        text-align: right;\n",
              "    }\n",
              "</style>\n",
              "<table border=\"1\" class=\"dataframe\">\n",
              "  <thead>\n",
              "    <tr style=\"text-align: right;\">\n",
              "      <th></th>\n",
              "      <th>year</th>\n",
              "      <th>month</th>\n",
              "      <th>day</th>\n",
              "      <th>temp_2</th>\n",
              "      <th>temp_1</th>\n",
              "      <th>average</th>\n",
              "      <th>actual</th>\n",
              "      <th>friend</th>\n",
              "    </tr>\n",
              "  </thead>\n",
              "  <tbody>\n",
              "    <tr>\n",
              "      <th>count</th>\n",
              "      <td>348.0</td>\n",
              "      <td>348.000000</td>\n",
              "      <td>348.000000</td>\n",
              "      <td>348.000000</td>\n",
              "      <td>348.000000</td>\n",
              "      <td>348.000000</td>\n",
              "      <td>348.000000</td>\n",
              "      <td>348.000000</td>\n",
              "    </tr>\n",
              "    <tr>\n",
              "      <th>mean</th>\n",
              "      <td>2019.0</td>\n",
              "      <td>6.477011</td>\n",
              "      <td>15.514368</td>\n",
              "      <td>62.652299</td>\n",
              "      <td>62.701149</td>\n",
              "      <td>59.760632</td>\n",
              "      <td>62.543103</td>\n",
              "      <td>60.034483</td>\n",
              "    </tr>\n",
              "    <tr>\n",
              "      <th>std</th>\n",
              "      <td>0.0</td>\n",
              "      <td>3.498380</td>\n",
              "      <td>8.772982</td>\n",
              "      <td>12.165398</td>\n",
              "      <td>12.120542</td>\n",
              "      <td>10.527306</td>\n",
              "      <td>11.794146</td>\n",
              "      <td>15.626179</td>\n",
              "    </tr>\n",
              "    <tr>\n",
              "      <th>min</th>\n",
              "      <td>2019.0</td>\n",
              "      <td>1.000000</td>\n",
              "      <td>1.000000</td>\n",
              "      <td>35.000000</td>\n",
              "      <td>35.000000</td>\n",
              "      <td>45.100000</td>\n",
              "      <td>35.000000</td>\n",
              "      <td>28.000000</td>\n",
              "    </tr>\n",
              "    <tr>\n",
              "      <th>25%</th>\n",
              "      <td>2019.0</td>\n",
              "      <td>3.000000</td>\n",
              "      <td>8.000000</td>\n",
              "      <td>54.000000</td>\n",
              "      <td>54.000000</td>\n",
              "      <td>49.975000</td>\n",
              "      <td>54.000000</td>\n",
              "      <td>47.750000</td>\n",
              "    </tr>\n",
              "    <tr>\n",
              "      <th>50%</th>\n",
              "      <td>2019.0</td>\n",
              "      <td>6.000000</td>\n",
              "      <td>15.000000</td>\n",
              "      <td>62.500000</td>\n",
              "      <td>62.500000</td>\n",
              "      <td>58.200000</td>\n",
              "      <td>62.500000</td>\n",
              "      <td>60.000000</td>\n",
              "    </tr>\n",
              "    <tr>\n",
              "      <th>75%</th>\n",
              "      <td>2019.0</td>\n",
              "      <td>10.000000</td>\n",
              "      <td>23.000000</td>\n",
              "      <td>71.000000</td>\n",
              "      <td>71.000000</td>\n",
              "      <td>69.025000</td>\n",
              "      <td>71.000000</td>\n",
              "      <td>71.000000</td>\n",
              "    </tr>\n",
              "    <tr>\n",
              "      <th>max</th>\n",
              "      <td>2019.0</td>\n",
              "      <td>12.000000</td>\n",
              "      <td>31.000000</td>\n",
              "      <td>117.000000</td>\n",
              "      <td>117.000000</td>\n",
              "      <td>77.400000</td>\n",
              "      <td>92.000000</td>\n",
              "      <td>95.000000</td>\n",
              "    </tr>\n",
              "  </tbody>\n",
              "</table>\n",
              "</div>"
            ],
            "text/plain": [
              "         year       month         day  ...     average      actual      friend\n",
              "count   348.0  348.000000  348.000000  ...  348.000000  348.000000  348.000000\n",
              "mean   2019.0    6.477011   15.514368  ...   59.760632   62.543103   60.034483\n",
              "std       0.0    3.498380    8.772982  ...   10.527306   11.794146   15.626179\n",
              "min    2019.0    1.000000    1.000000  ...   45.100000   35.000000   28.000000\n",
              "25%    2019.0    3.000000    8.000000  ...   49.975000   54.000000   47.750000\n",
              "50%    2019.0    6.000000   15.000000  ...   58.200000   62.500000   60.000000\n",
              "75%    2019.0   10.000000   23.000000  ...   69.025000   71.000000   71.000000\n",
              "max    2019.0   12.000000   31.000000  ...   77.400000   92.000000   95.000000\n",
              "\n",
              "[8 rows x 8 columns]"
            ]
          },
          "metadata": {},
          "execution_count": 2
        }
      ]
    },
    {
      "cell_type": "code",
      "metadata": {
        "colab": {
          "base_uri": "https://localhost:8080/"
        },
        "id": "YmbTyKgS1N4K",
        "outputId": "efd1214c-fdab-4922-ec99-4488851715eb"
      },
      "source": [
        "dataset.shape"
      ],
      "execution_count": 3,
      "outputs": [
        {
          "output_type": "execute_result",
          "data": {
            "text/plain": [
              "(348, 9)"
            ]
          },
          "metadata": {},
          "execution_count": 3
        }
      ]
    },
    {
      "cell_type": "code",
      "metadata": {
        "colab": {
          "base_uri": "https://localhost:8080/",
          "height": 204
        },
        "id": "e9Bq8PoJ1fMS",
        "outputId": "8a00b38b-c2b7-4c94-d5ff-77a23125e976"
      },
      "source": [
        "#Codificar los datos usando pandas get_dummies\n",
        "dataset = pd.get_dummies(dataset)\n",
        "# Mostrar las primeras 5 filas de las últimas 12 columnas\n",
        "dataset.iloc[:,5:].head(5)"
      ],
      "execution_count": 4,
      "outputs": [
        {
          "output_type": "execute_result",
          "data": {
            "text/html": [
              "<div>\n",
              "<style scoped>\n",
              "    .dataframe tbody tr th:only-of-type {\n",
              "        vertical-align: middle;\n",
              "    }\n",
              "\n",
              "    .dataframe tbody tr th {\n",
              "        vertical-align: top;\n",
              "    }\n",
              "\n",
              "    .dataframe thead th {\n",
              "        text-align: right;\n",
              "    }\n",
              "</style>\n",
              "<table border=\"1\" class=\"dataframe\">\n",
              "  <thead>\n",
              "    <tr style=\"text-align: right;\">\n",
              "      <th></th>\n",
              "      <th>average</th>\n",
              "      <th>actual</th>\n",
              "      <th>friend</th>\n",
              "      <th>week_Fri</th>\n",
              "      <th>week_Mon</th>\n",
              "      <th>week_Sat</th>\n",
              "      <th>week_Sun</th>\n",
              "      <th>week_Thurs</th>\n",
              "      <th>week_Tues</th>\n",
              "      <th>week_Wed</th>\n",
              "    </tr>\n",
              "  </thead>\n",
              "  <tbody>\n",
              "    <tr>\n",
              "      <th>0</th>\n",
              "      <td>45.6</td>\n",
              "      <td>45</td>\n",
              "      <td>29</td>\n",
              "      <td>1</td>\n",
              "      <td>0</td>\n",
              "      <td>0</td>\n",
              "      <td>0</td>\n",
              "      <td>0</td>\n",
              "      <td>0</td>\n",
              "      <td>0</td>\n",
              "    </tr>\n",
              "    <tr>\n",
              "      <th>1</th>\n",
              "      <td>45.7</td>\n",
              "      <td>44</td>\n",
              "      <td>61</td>\n",
              "      <td>0</td>\n",
              "      <td>0</td>\n",
              "      <td>1</td>\n",
              "      <td>0</td>\n",
              "      <td>0</td>\n",
              "      <td>0</td>\n",
              "      <td>0</td>\n",
              "    </tr>\n",
              "    <tr>\n",
              "      <th>2</th>\n",
              "      <td>45.8</td>\n",
              "      <td>41</td>\n",
              "      <td>56</td>\n",
              "      <td>0</td>\n",
              "      <td>0</td>\n",
              "      <td>0</td>\n",
              "      <td>1</td>\n",
              "      <td>0</td>\n",
              "      <td>0</td>\n",
              "      <td>0</td>\n",
              "    </tr>\n",
              "    <tr>\n",
              "      <th>3</th>\n",
              "      <td>45.9</td>\n",
              "      <td>40</td>\n",
              "      <td>53</td>\n",
              "      <td>0</td>\n",
              "      <td>1</td>\n",
              "      <td>0</td>\n",
              "      <td>0</td>\n",
              "      <td>0</td>\n",
              "      <td>0</td>\n",
              "      <td>0</td>\n",
              "    </tr>\n",
              "    <tr>\n",
              "      <th>4</th>\n",
              "      <td>46.0</td>\n",
              "      <td>44</td>\n",
              "      <td>41</td>\n",
              "      <td>0</td>\n",
              "      <td>0</td>\n",
              "      <td>0</td>\n",
              "      <td>0</td>\n",
              "      <td>0</td>\n",
              "      <td>1</td>\n",
              "      <td>0</td>\n",
              "    </tr>\n",
              "  </tbody>\n",
              "</table>\n",
              "</div>"
            ],
            "text/plain": [
              "   average  actual  friend  week_Fri  ...  week_Sun  week_Thurs  week_Tues  week_Wed\n",
              "0     45.6      45      29         1  ...         0           0          0         0\n",
              "1     45.7      44      61         0  ...         0           0          0         0\n",
              "2     45.8      41      56         0  ...         1           0          0         0\n",
              "3     45.9      40      53         0  ...         0           0          0         0\n",
              "4     46.0      44      41         0  ...         0           0          1         0\n",
              "\n",
              "[5 rows x 10 columns]"
            ]
          },
          "metadata": {},
          "execution_count": 4
        }
      ]
    },
    {
      "cell_type": "code",
      "metadata": {
        "colab": {
          "base_uri": "https://localhost:8080/"
        },
        "id": "mgknw2Bi13hI",
        "outputId": "d5f02b90-a000-4e98-adf7-96406b24a456"
      },
      "source": [
        "# Utilice numpy para convertir a matrices\n",
        "import numpy as np\n",
        "# Las etiquetas son los valores que queremos predecir\n",
        "labels = np.array(dataset['actual'])\n",
        "labels"
      ],
      "execution_count": 5,
      "outputs": [
        {
          "output_type": "execute_result",
          "data": {
            "text/plain": [
              "array([45, 44, 41, 40, 44, 51, 45, 48, 50, 52, 45, 49, 55, 49, 48, 54, 50,\n",
              "       54, 48, 52, 52, 57, 48, 51, 54, 56, 57, 56, 52, 48, 47, 46, 51, 49,\n",
              "       49, 53, 49, 51, 57, 62, 56, 55, 58, 55, 56, 57, 53, 51, 53, 51, 51,\n",
              "       60, 59, 61, 60, 57, 53, 58, 55, 59, 57, 64, 60, 53, 54, 55, 56, 55,\n",
              "       52, 54, 49, 51, 53, 58, 63, 61, 55, 56, 57, 53, 54, 57, 59, 51, 56,\n",
              "       64, 68, 73, 71, 63, 69, 60, 57, 68, 77, 76, 66, 59, 58, 60, 59, 59,\n",
              "       60, 68, 77, 89, 81, 81, 73, 64, 65, 55, 59, 60, 61, 64, 61, 68, 77,\n",
              "       87, 74, 60, 68, 77, 82, 63, 67, 75, 81, 77, 82, 65, 57, 60, 71, 64,\n",
              "       63, 66, 59, 66, 65, 66, 66, 65, 64, 64, 64, 71, 79, 75, 71, 80, 81,\n",
              "       92, 86, 85, 67, 65, 67, 65, 70, 66, 60, 67, 71, 67, 65, 70, 76, 73,\n",
              "       75, 68, 69, 71, 78, 85, 79, 74, 73, 76, 76, 71, 68, 69, 76, 68, 74,\n",
              "       71, 74, 74, 77, 75, 77, 76, 72, 80, 73, 78, 82, 81, 71, 75, 80, 85,\n",
              "       79, 83, 85, 88, 76, 73, 77, 73, 75, 80, 79, 72, 72, 73, 72, 76, 80,\n",
              "       87, 90, 83, 84, 81, 79, 75, 70, 67, 68, 68, 68, 67, 72, 74, 77, 70,\n",
              "       74, 75, 79, 71, 75, 68, 69, 71, 67, 68, 67, 64, 67, 76, 77, 69, 68,\n",
              "       66, 67, 63, 65, 61, 63, 66, 63, 64, 68, 57, 60, 62, 66, 60, 60, 62,\n",
              "       60, 60, 61, 58, 62, 59, 62, 62, 61, 65, 58, 60, 65, 68, 59, 57, 57,\n",
              "       65, 65, 58, 61, 63, 71, 65, 64, 63, 59, 55, 57, 55, 50, 52, 55, 57,\n",
              "       55, 54, 54, 49, 52, 52, 53, 48, 52, 52, 52, 46, 50, 49, 46, 40, 42,\n",
              "       40, 41, 36, 44, 44, 43, 40, 39, 39, 35, 35, 39, 46, 51, 49, 45, 40,\n",
              "       41, 42, 42, 47, 48, 48, 57, 40])"
            ]
          },
          "metadata": {},
          "execution_count": 5
        }
      ]
    },
    {
      "cell_type": "code",
      "metadata": {
        "colab": {
          "base_uri": "https://localhost:8080/"
        },
        "id": "ZMLxZTjC2f00",
        "outputId": "449d45e6-3e0f-4442-8d4c-117c6c24b5e9"
      },
      "source": [
        "#Quitar las etiquetas\n",
        "dataset= dataset.drop('actual', axis = 1)\n",
        "#Guardar nombres de las columbas uso posterior\n",
        "dataset_list = list(dataset.columns)\n",
        "# Convertir a array numpy\n",
        "dataset = np.array(dataset)\n",
        "dataset"
      ],
      "execution_count": 6,
      "outputs": [
        {
          "output_type": "execute_result",
          "data": {
            "text/plain": [
              "array([[2.019e+03, 1.000e+00, 1.000e+00, ..., 0.000e+00, 0.000e+00,\n",
              "        0.000e+00],\n",
              "       [2.019e+03, 1.000e+00, 2.000e+00, ..., 0.000e+00, 0.000e+00,\n",
              "        0.000e+00],\n",
              "       [2.019e+03, 1.000e+00, 3.000e+00, ..., 0.000e+00, 0.000e+00,\n",
              "        0.000e+00],\n",
              "       ...,\n",
              "       [2.019e+03, 1.200e+01, 2.900e+01, ..., 1.000e+00, 0.000e+00,\n",
              "        0.000e+00],\n",
              "       [2.019e+03, 1.200e+01, 3.000e+01, ..., 0.000e+00, 0.000e+00,\n",
              "        0.000e+00],\n",
              "       [2.019e+03, 1.200e+01, 3.100e+01, ..., 0.000e+00, 0.000e+00,\n",
              "        0.000e+00]])"
            ]
          },
          "metadata": {},
          "execution_count": 6
        }
      ]
    },
    {
      "cell_type": "code",
      "metadata": {
        "colab": {
          "base_uri": "https://localhost:8080/"
        },
        "id": "AYOXUW272wYi",
        "outputId": "0877e548-6836-4a34-cd5e-0d9374e9ea3c"
      },
      "source": [
        "from sklearn.model_selection import train_test_split\n",
        "train_features, test_features, train_labels, test_labels = train_test_split(dataset, labels, test_size = 0.25, \n",
        "                                                                            random_state = 42)\n",
        "train_features"
      ],
      "execution_count": 7,
      "outputs": [
        {
          "output_type": "execute_result",
          "data": {
            "text/plain": [
              "array([[2.019e+03, 9.000e+00, 1.900e+01, ..., 0.000e+00, 0.000e+00,\n",
              "        0.000e+00],\n",
              "       [2.019e+03, 4.000e+00, 1.400e+01, ..., 1.000e+00, 0.000e+00,\n",
              "        0.000e+00],\n",
              "       [2.019e+03, 7.000e+00, 3.000e+01, ..., 0.000e+00, 0.000e+00,\n",
              "        0.000e+00],\n",
              "       ...,\n",
              "       [2.019e+03, 4.000e+00, 1.900e+01, ..., 0.000e+00, 1.000e+00,\n",
              "        0.000e+00],\n",
              "       [2.019e+03, 1.000e+01, 1.400e+01, ..., 0.000e+00, 0.000e+00,\n",
              "        0.000e+00],\n",
              "       [2.019e+03, 4.000e+00, 1.500e+01, ..., 0.000e+00, 0.000e+00,\n",
              "        0.000e+00]])"
            ]
          },
          "metadata": {},
          "execution_count": 7
        }
      ]
    },
    {
      "cell_type": "code",
      "metadata": {
        "colab": {
          "base_uri": "https://localhost:8080/"
        },
        "id": "PpbwtrdR3SUh",
        "outputId": "b029aeff-6f95-4140-91d6-62e16b5f60e6"
      },
      "source": [
        "test_features"
      ],
      "execution_count": 8,
      "outputs": [
        {
          "output_type": "execute_result",
          "data": {
            "text/plain": [
              "array([[2.019e+03, 9.000e+00, 2.900e+01, ..., 1.000e+00, 0.000e+00,\n",
              "        0.000e+00],\n",
              "       [2.019e+03, 4.000e+00, 2.700e+01, ..., 0.000e+00, 0.000e+00,\n",
              "        1.000e+00],\n",
              "       [2.019e+03, 1.100e+01, 2.800e+01, ..., 0.000e+00, 0.000e+00,\n",
              "        0.000e+00],\n",
              "       ...,\n",
              "       [2.019e+03, 1.000e+01, 5.000e+00, ..., 0.000e+00, 0.000e+00,\n",
              "        1.000e+00],\n",
              "       [2.019e+03, 3.000e+00, 4.000e+00, ..., 0.000e+00, 0.000e+00,\n",
              "        0.000e+00],\n",
              "       [2.019e+03, 1.200e+01, 2.200e+01, ..., 1.000e+00, 0.000e+00,\n",
              "        0.000e+00]])"
            ]
          },
          "metadata": {},
          "execution_count": 8
        }
      ]
    },
    {
      "cell_type": "code",
      "metadata": {
        "colab": {
          "base_uri": "https://localhost:8080/"
        },
        "id": "e7LLujwr3UuZ",
        "outputId": "27dea357-d454-4c5e-dfe1-1b4e06ce1e44"
      },
      "source": [
        "train_labels"
      ],
      "execution_count": 9,
      "outputs": [
        {
          "output_type": "execute_result",
          "data": {
            "text/plain": [
              "array([71, 59, 76, 57, 54, 54, 52, 82, 35, 41, 48, 80, 68, 39, 85, 79, 52,\n",
              "       76, 53, 41, 48, 61, 77, 68, 46, 43, 71, 62, 67, 74, 57, 52, 59, 54,\n",
              "       47, 55, 66, 54, 40, 45, 67, 70, 45, 65, 67, 57, 61, 72, 76, 55, 67,\n",
              "       73, 57, 54, 75, 66, 65, 60, 59, 58, 52, 51, 51, 64, 68, 55, 62, 44,\n",
              "       63, 64, 40, 68, 71, 76, 65, 71, 57, 35, 75, 71, 75, 77, 57, 49, 90,\n",
              "       68, 59, 87, 68, 68, 40, 46, 64, 52, 71, 79, 68, 86, 72, 41, 64, 58,\n",
              "       67, 74, 59, 73, 55, 75, 63, 58, 48, 51, 65, 81, 80, 73, 60, 76, 69,\n",
              "       56, 46, 55, 57, 64, 74, 49, 65, 55, 53, 52, 75, 66, 68, 65, 83, 60,\n",
              "       76, 62, 73, 79, 77, 55, 63, 60, 85, 63, 57, 42, 66, 65, 44, 45, 53,\n",
              "       59, 52, 59, 79, 77, 55, 72, 80, 68, 68, 58, 49, 72, 64, 71, 67, 51,\n",
              "       51, 71, 52, 56, 61, 68, 63, 60, 63, 59, 60, 64, 81, 50, 54, 48, 67,\n",
              "       56, 49, 60, 72, 50, 77, 88, 75, 46, 76, 40, 50, 60, 75, 66, 55, 73,\n",
              "       77, 61, 89, 61, 44, 51, 54, 83, 49, 64, 60, 59, 68, 71, 49, 71, 60,\n",
              "       65, 42, 71, 55, 39, 68, 60, 51, 78, 74, 57, 71, 73, 55, 53, 74, 77,\n",
              "       57, 48, 70, 62, 75, 63, 63, 54, 75, 82, 80, 60, 73, 39, 79, 60, 40,\n",
              "       52, 74, 51, 81, 60, 60])"
            ]
          },
          "metadata": {},
          "execution_count": 9
        }
      ]
    },
    {
      "cell_type": "code",
      "metadata": {
        "colab": {
          "base_uri": "https://localhost:8080/"
        },
        "id": "GzJeaY983WdR",
        "outputId": "d004c297-d259-4ac6-ee48-9d8a59b5e4a8"
      },
      "source": [
        "test_labels"
      ],
      "execution_count": 10,
      "outputs": [
        {
          "output_type": "execute_result",
          "data": {
            "text/plain": [
              "array([66, 61, 52, 66, 70, 82, 85, 84, 65, 92, 61, 85, 44, 65, 69, 62, 64,\n",
              "       56, 53, 79, 63, 57, 67, 62, 59, 56, 65, 52, 66, 76, 64, 61, 48, 81,\n",
              "       77, 57, 58, 47, 68, 51, 77, 56, 73, 51, 59, 87, 58, 81, 58, 42, 49,\n",
              "       40, 65, 64, 70, 65, 53, 57, 53, 60, 67, 49, 53, 69, 55, 68, 76, 69,\n",
              "       78, 36, 74, 57, 69, 50, 56, 67, 48, 80, 48, 49, 57, 77, 81, 67, 66,\n",
              "       57, 45])"
            ]
          },
          "metadata": {},
          "execution_count": 10
        }
      ]
    },
    {
      "cell_type": "code",
      "metadata": {
        "colab": {
          "base_uri": "https://localhost:8080/"
        },
        "id": "czDucjGy3Dqy",
        "outputId": "8e57a125-5d83-475c-a879-6bdf4a70ce0a"
      },
      "source": [
        "train_features.shape"
      ],
      "execution_count": 11,
      "outputs": [
        {
          "output_type": "execute_result",
          "data": {
            "text/plain": [
              "(261, 14)"
            ]
          },
          "metadata": {},
          "execution_count": 11
        }
      ]
    },
    {
      "cell_type": "code",
      "metadata": {
        "colab": {
          "base_uri": "https://localhost:8080/"
        },
        "id": "NCn234ND3uSZ",
        "outputId": "939b73d0-f6a5-4aad-af82-f4606efc72ac"
      },
      "source": [
        "train_labels.shape"
      ],
      "execution_count": 12,
      "outputs": [
        {
          "output_type": "execute_result",
          "data": {
            "text/plain": [
              "(261,)"
            ]
          },
          "metadata": {},
          "execution_count": 12
        }
      ]
    },
    {
      "cell_type": "code",
      "metadata": {
        "colab": {
          "base_uri": "https://localhost:8080/"
        },
        "id": "tRLtx4Mg3vlb",
        "outputId": "605188ca-4795-4cc3-dd12-5dad74424dbe"
      },
      "source": [
        "test_features.shape"
      ],
      "execution_count": 13,
      "outputs": [
        {
          "output_type": "execute_result",
          "data": {
            "text/plain": [
              "(87, 14)"
            ]
          },
          "metadata": {},
          "execution_count": 13
        }
      ]
    },
    {
      "cell_type": "code",
      "metadata": {
        "colab": {
          "base_uri": "https://localhost:8080/"
        },
        "id": "0TYodlEk3xM6",
        "outputId": "fc1b6543-5ca0-4b97-9747-2dbb00d7b9b8"
      },
      "source": [
        "test_labels.shape"
      ],
      "execution_count": 14,
      "outputs": [
        {
          "output_type": "execute_result",
          "data": {
            "text/plain": [
              "(87,)"
            ]
          },
          "metadata": {},
          "execution_count": 14
        }
      ]
    },
    {
      "cell_type": "markdown",
      "metadata": {
        "id": "uPZgtvw834Y5"
      },
      "source": [
        "# Entrenamos el modelo"
      ]
    },
    {
      "cell_type": "code",
      "metadata": {
        "id": "iZeTKPL-35ia"
      },
      "source": [
        "from sklearn.ensemble import RandomForestRegressor\n",
        "rf = RandomForestRegressor(n_estimators = 1000, random_state = 42)\n",
        "rf.fit(train_features, train_labels);"
      ],
      "execution_count": 15,
      "outputs": []
    },
    {
      "cell_type": "markdown",
      "metadata": {
        "id": "t4I_BCNO4ERh"
      },
      "source": [
        "# Hacemos las predicciones sobre la data de test"
      ]
    },
    {
      "cell_type": "code",
      "metadata": {
        "colab": {
          "base_uri": "https://localhost:8080/"
        },
        "id": "FK5o90PM4HOK",
        "outputId": "a131738f-290e-4214-edb8-134a1e46ead6"
      },
      "source": [
        "predictions = rf.predict(test_features)\n",
        "errors = abs(predictions - test_labels)\n",
        "mape = 100 * (errors / test_labels)\n",
        "accuracy = 100 - np.mean(mape)\n",
        "round(accuracy, 2)"
      ],
      "execution_count": 16,
      "outputs": [
        {
          "output_type": "execute_result",
          "data": {
            "text/plain": [
              "93.98"
            ]
          },
          "metadata": {},
          "execution_count": 16
        }
      ]
    },
    {
      "cell_type": "markdown",
      "metadata": {
        "id": "KiZlKiBr4xAS"
      },
      "source": [
        "Esto es bueno, el algoritmo ha aprendido a predecir la temperatura para el día siguiente con una precisión del 94%."
      ]
    },
    {
      "cell_type": "markdown",
      "metadata": {
        "id": "8A1Vs71L5CcZ"
      },
      "source": [
        "No habíamos visto como graficar el árbol, observe el siguiente código y su resultado en la carpeta de los archivos."
      ]
    },
    {
      "cell_type": "code",
      "metadata": {
        "id": "LO4eiG_j5JIM"
      },
      "source": [
        "from sklearn.tree import export_graphviz\n",
        "import pydot\n",
        "tree = rf.estimators_[5]\n",
        "from sklearn.tree import export_graphviz\n",
        "import pydot\n",
        "tree = rf.estimators_[5]\n",
        "export_graphviz(tree, out_file = 'tree.dot', feature_names = dataset_list, rounded = True, precision = 1)\n",
        "(graph, ) = pydot.graph_from_dot_file('tree.dot')\n",
        "graph.write_png('tree.png')"
      ],
      "execution_count": 17,
      "outputs": []
    }
  ]
}