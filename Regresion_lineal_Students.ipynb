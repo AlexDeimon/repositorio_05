{
  "nbformat": 4,
  "nbformat_minor": 0,
  "metadata": {
    "colab": {
      "name": "Regresion_lineal_Students.ipynb",
      "provenance": []
    },
    "kernelspec": {
      "name": "python3",
      "display_name": "Python 3"
    },
    "language_info": {
      "name": "python"
    }
  },
  "cells": [
    {
      "cell_type": "code",
      "metadata": {
        "id": "fYp6Q94pHVSq"
      },
      "source": [
        "import numpy as np\n",
        "import matplotlib.pyplot as plt\n",
        "import pandas as pd\n",
        "from sklearn import linear_model, datasets\n",
        "\n",
        "dataset = pd.read_csv('student_scores.csv')\n",
        "X = dataset.iloc[:,[0]].values\n",
        "y = dataset.iloc[:,[1]].values"
      ],
      "execution_count": 5,
      "outputs": []
    },
    {
      "cell_type": "code",
      "metadata": {
        "colab": {
          "base_uri": "https://localhost:8080/",
          "height": 295
        },
        "id": "YlO8YRgtKGDc",
        "outputId": "50982189-1ed9-4c55-b2ff-e92ef8ac528b"
      },
      "source": [
        "plt.scatter(X,y,marker='o')\n",
        "plt.title('Horas vs puntaje')\n",
        "plt.xlabel('Horas de estudio')\n",
        "plt.ylabel('Puntaje obtenido')\n",
        "plt.show()"
      ],
      "execution_count": 6,
      "outputs": [
        {
          "output_type": "display_data",
          "data": {
            "image/png": "[encoded data removed]",
            "text/plain": [
              "<Figure size 432x288 with 1 Axes>"
            ]
          },
          "metadata": {
            "needs_background": "light"
          }
        }
      ]
    },
    {
      "cell_type": "code",
      "metadata": {
        "id": "UXDivHpVK4XL"
      },
      "source": [
        "#implementamos algoritmo de regresion lineal\n",
        "#entrenamiento y test\n",
        "from sklearn.model_selection import train_test_split\n",
        "X_train, X_test, Y_train, Y_test = train_test_split(X,y,test_size=0.2)\n",
        "lr = linear_model.LinearRegression()\n",
        "lr.fit(X_train,Y_train)\n",
        "Y_pred = lr.predict(X_test)"
      ],
      "execution_count": 7,
      "outputs": []
    },
    {
      "cell_type": "code",
      "metadata": {
        "colab": {
          "base_uri": "https://localhost:8080/"
        },
        "id": "7HVbypL6LfRo",
        "outputId": "09dd8935-824a-477d-ac89-43acace0c08b"
      },
      "source": [
        "print('Datos del modelo de regresion lineal')\n",
        "print('Valor de la pendiente / coeficiente a = ',lr.coef_)\n",
        "print('valor del intersecto / coeficiente b = ', lr.intercept_)"
      ],
      "execution_count": 8,
      "outputs": [
        {
          "output_type": "stream",
          "name": "stdout",
          "text": [
            "Datos del modelo de regresion lineal\n",
            "Valor de la pendiente / coeficiente a =  [[9.2002649]]\n",
            "valor del intersecto / coeficiente b =  [4.99512253]\n"
          ]
        }
      ]
    },
    {
      "cell_type": "code",
      "metadata": {
        "colab": {
          "base_uri": "https://localhost:8080/",
          "height": 295
        },
        "id": "LmUfx0OkLEfq",
        "outputId": "439fd5d3-d5d8-4a7c-fef1-0100f26ab7ae"
      },
      "source": [
        "#graficar\n",
        "plt.scatter(X,y,marker='o')\n",
        "plt.plot(X_test,Y_pred, color = 'red', linewidth = 5)\n",
        "plt.title('Horas vs puntaje')\n",
        "plt.xlabel('Horas de estudio')\n",
        "plt.ylabel('Puntaje obtenido')\n",
        "plt.show()"
      ],
      "execution_count": 10,
      "outputs": [
        {
          "output_type": "display_data",
          "data": {
            "image/png": "[encoded data removed]",
            "text/plain": [
              "<Figure size 432x288 with 1 Axes>"
            ]
          },
          "metadata": {
            "needs_background": "light"
          }
        }
      ]
    },
    {
      "cell_type": "code",
      "metadata": {
        "colab": {
          "base_uri": "https://localhost:8080/"
        },
        "id": "dMmdWyZrMuU-",
        "outputId": "42afd1e8-4958-465f-b554-280f3873519a"
      },
      "source": [
        "precision = lr.score(X_train,Y_train)\n",
        "print(precision)"
      ],
      "execution_count": 13,
      "outputs": [
        {
          "output_type": "stream",
          "name": "stdout",
          "text": [
            "0.9597476388294127\n"
          ]
        }
      ]
    },
    {
      "cell_type": "code",
      "metadata": {
        "colab": {
          "base_uri": "https://localhost:8080/"
        },
        "id": "r7SLS_B-NJek",
        "outputId": "18177d2a-ae78-470c-9f23-a994eca28d2b"
      },
      "source": [
        "#predecir por un valor especifico\n",
        "Y_pred = lr.predict(np.array([[4.5]]))\n",
        "print(Y_pred)"
      ],
      "execution_count": 17,
      "outputs": [
        {
          "output_type": "stream",
          "name": "stdout",
          "text": [
            "[[46.39631457]]\n"
          ]
        }
      ]
    }
  ]
}