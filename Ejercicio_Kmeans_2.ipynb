{
  "nbformat": 4,
  "nbformat_minor": 0,
  "metadata": {
    "colab": {
      "name": "Ejercicio_Kmeans_2.ipynb",
      "provenance": []
    },
    "kernelspec": {
      "name": "python3",
      "display_name": "Python 3"
    },
    "language_info": {
      "name": "python"
    }
  },
  "cells": [
    {
      "cell_type": "code",
      "metadata": {
        "colab": {
          "base_uri": "https://localhost:8080/"
        },
        "id": "dZYwZaZqDrTg",
        "outputId": "0b846f48-914d-4815-d723-4af1029fc800"
      },
      "source": [
        "import pandas as pd\n",
        "import matplotlib.pyplot as plt\n",
        "\n",
        "data = pd.read_csv('Wholesale customers data.csv')\n",
        "data.shape"
      ],
      "execution_count": 8,
      "outputs": [
        {
          "output_type": "execute_result",
          "data": {
            "text/plain": [
              "(440, 8)"
            ]
          },
          "metadata": {},
          "execution_count": 8
        }
      ]
    },
    {
      "cell_type": "code",
      "metadata": {
        "colab": {
          "base_uri": "https://localhost:8080/"
        },
        "id": "xVQDXHC6FON_",
        "outputId": "630ce573-e6a1-40d1-956b-01186a690c0e"
      },
      "source": [
        "data.isnull().sum()"
      ],
      "execution_count": 9,
      "outputs": [
        {
          "output_type": "execute_result",
          "data": {
            "text/plain": [
              "Channel             0\n",
              "Region              0\n",
              "Fresh               0\n",
              "Milk                0\n",
              "Grocery             0\n",
              "Frozen              0\n",
              "Detergents_Paper    0\n",
              "Delicassen          0\n",
              "dtype: int64"
            ]
          },
          "metadata": {},
          "execution_count": 9
        }
      ]
    },
    {
      "cell_type": "code",
      "metadata": {
        "colab": {
          "base_uri": "https://localhost:8080/"
        },
        "id": "dViX1o7zFT4u",
        "outputId": "e1a8a923-281c-4be9-d75c-997b3669cdb8"
      },
      "source": [
        "data.dtypes"
      ],
      "execution_count": 10,
      "outputs": [
        {
          "output_type": "execute_result",
          "data": {
            "text/plain": [
              "Channel             int64\n",
              "Region              int64\n",
              "Fresh               int64\n",
              "Milk                int64\n",
              "Grocery             int64\n",
              "Frozen              int64\n",
              "Detergents_Paper    int64\n",
              "Delicassen          int64\n",
              "dtype: object"
            ]
          },
          "metadata": {},
          "execution_count": 10
        }
      ]
    },
    {
      "cell_type": "code",
      "metadata": {
        "colab": {
          "base_uri": "https://localhost:8080/",
          "height": 142
        },
        "id": "6ZVxSdMzFXLs",
        "outputId": "d355bf4d-f823-46a6-e143-972ea05a4cfd"
      },
      "source": [
        "#seleccionar 3 datos al azar para luego verificar a q cluster pertenece\n",
        "indices = [10,170,340]\n",
        "muestras = pd.DataFrame(data.loc[indices], columns=data.keys()).reset_index(drop=True)\n",
        "muestras"
      ],
      "execution_count": 11,
      "outputs": [
        {
          "output_type": "execute_result",
          "data": {
            "text/html": [
              "<div>\n",
              "<style scoped>\n",
              "    .dataframe tbody tr th:only-of-type {\n",
              "        vertical-align: middle;\n",
              "    }\n",
              "\n",
              "    .dataframe tbody tr th {\n",
              "        vertical-align: top;\n",
              "    }\n",
              "\n",
              "    .dataframe thead th {\n",
              "        text-align: right;\n",
              "    }\n",
              "</style>\n",
              "<table border=\"1\" class=\"dataframe\">\n",
              "  <thead>\n",
              "    <tr style=\"text-align: right;\">\n",
              "      <th></th>\n",
              "      <th>Channel</th>\n",
              "      <th>Region</th>\n",
              "      <th>Fresh</th>\n",
              "      <th>Milk</th>\n",
              "      <th>Grocery</th>\n",
              "      <th>Frozen</th>\n",
              "      <th>Detergents_Paper</th>\n",
              "      <th>Delicassen</th>\n",
              "    </tr>\n",
              "  </thead>\n",
              "  <tbody>\n",
              "    <tr>\n",
              "      <th>0</th>\n",
              "      <td>2</td>\n",
              "      <td>3</td>\n",
              "      <td>3366</td>\n",
              "      <td>5403</td>\n",
              "      <td>12974</td>\n",
              "      <td>4400</td>\n",
              "      <td>5977</td>\n",
              "      <td>1744</td>\n",
              "    </tr>\n",
              "    <tr>\n",
              "      <th>1</th>\n",
              "      <td>2</td>\n",
              "      <td>3</td>\n",
              "      <td>260</td>\n",
              "      <td>8675</td>\n",
              "      <td>13430</td>\n",
              "      <td>1116</td>\n",
              "      <td>7015</td>\n",
              "      <td>323</td>\n",
              "    </tr>\n",
              "    <tr>\n",
              "      <th>2</th>\n",
              "      <td>2</td>\n",
              "      <td>3</td>\n",
              "      <td>381</td>\n",
              "      <td>4025</td>\n",
              "      <td>9670</td>\n",
              "      <td>388</td>\n",
              "      <td>7271</td>\n",
              "      <td>1371</td>\n",
              "    </tr>\n",
              "  </tbody>\n",
              "</table>\n",
              "</div>"
            ],
            "text/plain": [
              "   Channel  Region  Fresh  Milk  Grocery  Frozen  Detergents_Paper  Delicassen\n",
              "0        2       3   3366  5403    12974    4400              5977        1744\n",
              "1        2       3    260  8675    13430    1116              7015         323\n",
              "2        2       3    381  4025     9670     388              7271        1371"
            ]
          },
          "metadata": {},
          "execution_count": 11
        }
      ]
    },
    {
      "cell_type": "code",
      "metadata": {
        "colab": {
          "base_uri": "https://localhost:8080/"
        },
        "id": "Oh5RVMAnHR8x",
        "outputId": "ffcb3e7b-8a09-4ee7-b9a4-01bbb0393a9d"
      },
      "source": [
        "data = data.drop(indices, axis=0)\n",
        "data.shape"
      ],
      "execution_count": 12,
      "outputs": [
        {
          "output_type": "execute_result",
          "data": {
            "text/plain": [
              "(437, 8)"
            ]
          },
          "metadata": {},
          "execution_count": 12
        }
      ]
    },
    {
      "cell_type": "code",
      "metadata": {
        "id": "s2F0Dzt7H_fl"
      },
      "source": [
        "#eliminar canal y region\n",
        "data = data.drop(['Region','Channel'], axis=1)\n",
        "muestras = muestras.drop(['Region','Channel'], axis=1)"
      ],
      "execution_count": 13,
      "outputs": []
    },
    {
      "cell_type": "code",
      "metadata": {
        "id": "AVxKu6i5IgsL"
      },
      "source": [
        "#escalonamiento de la data\n",
        "from sklearn import preprocessing\n",
        "\n",
        "data_escalada = preprocessing.Normalizer().fit_transform(data)\n",
        "muestras_escaladas = preprocessing.Normalizer().fit_transform(muestras)"
      ],
      "execution_count": 14,
      "outputs": []
    },
    {
      "cell_type": "code",
      "metadata": {
        "colab": {
          "base_uri": "https://localhost:8080/"
        },
        "id": "ZntcGnXBJ8_h",
        "outputId": "10b031dd-b8ad-4b9f-99f7-6ec0d73ed42f"
      },
      "source": [
        "data_escalada"
      ],
      "execution_count": 15,
      "outputs": [
        {
          "output_type": "execute_result",
          "data": {
            "text/plain": [
              "array([[0.70833271, 0.53987376, 0.42274083, 0.01196489, 0.14950522,\n",
              "        0.07480852],\n",
              "       [0.44219826, 0.61470384, 0.59953989, 0.11040858, 0.20634248,\n",
              "        0.11128583],\n",
              "       [0.39655169, 0.5497918 , 0.47963217, 0.15011913, 0.2194673 ,\n",
              "        0.48961931],\n",
              "       ...,\n",
              "       [0.36446153, 0.38846468, 0.7585445 , 0.01096068, 0.37223685,\n",
              "        0.04682745],\n",
              "       [0.93773743, 0.1805304 , 0.20340427, 0.09459392, 0.01531   ,\n",
              "        0.19365326],\n",
              "       [0.67229603, 0.40960124, 0.60547651, 0.01567967, 0.11506466,\n",
              "        0.01254374]])"
            ]
          },
          "metadata": {},
          "execution_count": 15
        }
      ]
    },
    {
      "cell_type": "code",
      "metadata": {
        "colab": {
          "base_uri": "https://localhost:8080/"
        },
        "id": "_x7nTGnSKAOx",
        "outputId": "068a4ecc-faab-4d24-8d00-191cadfbe93b"
      },
      "source": [
        "muestras_escaladas"
      ],
      "execution_count": 16,
      "outputs": [
        {
          "output_type": "execute_result",
          "data": {
            "text/plain": [
              "array([[0.20600623, 0.33067488, 0.7940359 , 0.26928919, 0.36580488,\n",
              "        0.10673644],\n",
              "       [0.01485719, 0.4957158 , 0.76743091, 0.06377162, 0.40085836,\n",
              "        0.0184572 ],\n",
              "       [0.0296831 , 0.31358128, 0.75337415, 0.03022846, 0.56647192,\n",
              "        0.10681241]])"
            ]
          },
          "metadata": {},
          "execution_count": 16
        }
      ]
    },
    {
      "cell_type": "code",
      "metadata": {
        "id": "ExXeiGkoKGiX"
      },
      "source": [
        "#Kmeans\n",
        "from sklearn.cluster import KMeans\n",
        "\n",
        "X = data_escalada.copy()\n",
        "#Calcular el numero optimo de cluster con el metodo del codo\n",
        "inercia = []\n",
        "for i in range(1,20):\n",
        "  algoritmo = KMeans(n_clusters = i, init = 'k-means++', n_init = 10, max_iter = 300)\n",
        "  algoritmo.fit(X)\n",
        "  inercia.append(algoritmo.inertia_)"
      ],
      "execution_count": 18,
      "outputs": []
    },
    {
      "cell_type": "code",
      "metadata": {
        "colab": {
          "base_uri": "https://localhost:8080/",
          "height": 458
        },
        "id": "3h5t_UTQMdEx",
        "outputId": "ab97b818-ef6d-41be-f6d2-e74f30b8feeb"
      },
      "source": [
        "#graficar el metodo del codo\n",
        "plt.figure(figsize=[10,7])\n",
        "plt.title('Metodo del codo')\n",
        "plt.xlabel('No Clusters')\n",
        "plt.ylabel('Inercia')\n",
        "plt.plot(list(range(1,20)), inercia, marker='o')\n",
        "plt.show()"
      ],
      "execution_count": 21,
      "outputs": [
        {
          "output_type": "display_data",
          "data": {
            "image/png": "[encoded data removed]",
            "text/plain": [
              "<Figure size 720x504 with 1 Axes>"
            ]
          },
          "metadata": {
            "needs_background": "light"
          }
        }
      ]
    },
    {
      "cell_type": "code",
      "metadata": {
        "id": "Z9sGM38TOQWc"
      },
      "source": [
        "#Aplicando algoritmo kmeans\n",
        "kmeans = KMeans(n_clusters=6, init = 'k-means++', n_init = 10, max_iter = 300)\n",
        "kmeans.fit(X)\n",
        "centroides, labels = kmeans.cluster_centers_, kmeans.labels_"
      ],
      "execution_count": 23,
      "outputs": []
    },
    {
      "cell_type": "code",
      "metadata": {
        "id": "oqa2LY2API05"
      },
      "source": [
        "#reduccion de la dimencionalidad\n",
        "from sklearn.decomposition import PCA\n",
        "modelo_pca = PCA(n_components= 2)\n",
        "modelo_pca.fit(X)\n",
        "pca = modelo_pca.transform(X)\n",
        "centroides_pca = modelo_pca.transform(centroides)"
      ],
      "execution_count": 24,
      "outputs": []
    },
    {
      "cell_type": "code",
      "metadata": {
        "id": "6x-5syNxQmRY"
      },
      "source": [
        "#preparacion grafica del cluster\n",
        "colores = ['blue','red','green','orange','brown','magenta']\n",
        "colores_cluster = [colores[labels[i]] for i in range(len(pca))]"
      ],
      "execution_count": 27,
      "outputs": []
    },
    {
      "cell_type": "code",
      "metadata": {
        "colab": {
          "base_uri": "https://localhost:8080/",
          "height": 282
        },
        "id": "zmgO82x1RZYc",
        "outputId": "844de8d2-c7ae-4d20-fecb-2287a0e3bb0c"
      },
      "source": [
        "plt.scatter(pca[:,0],pca[:,1], c = colores_cluster, marker='o', alpha=0.5)\n",
        "plt.scatter(centroides_pca[:, 0], centroides_pca[:,1], c = 'black', marker='x', linewidths=3)\n"
      ],
      "execution_count": 29,
      "outputs": [
        {
          "output_type": "execute_result",
          "data": {
            "text/plain": [
              "<matplotlib.collections.PathCollection at 0x7ffa41ef9750>"
            ]
          },
          "metadata": {},
          "execution_count": 29
        },
        {
          "output_type": "display_data",
          "data": {
            "image/png": "[encoded data removed]",
            "text/plain": [
              "<Figure size 432x288 with 1 Axes>"
            ]
          },
          "metadata": {
            "needs_background": "light"
          }
        }
      ]
    }
  ]
}